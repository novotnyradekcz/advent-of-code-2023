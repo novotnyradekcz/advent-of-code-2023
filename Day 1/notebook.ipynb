{
 "cells": [
  {
   "cell_type": "markdown",
   "metadata": {},
   "source": [
    "# Advent of Code 2023\n",
    "### Day 1: Trebuchet?!"
   ]
  },
  {
   "cell_type": "markdown",
   "metadata": {},
   "source": [
    "##### Importing libraries"
   ]
  },
  {
   "cell_type": "code",
   "execution_count": null,
   "metadata": {},
   "outputs": [],
   "source": []
  },
  {
   "cell_type": "markdown",
   "metadata": {},
   "source": [
    "##### Loading example and input file"
   ]
  },
  {
   "cell_type": "code",
   "execution_count": 35,
   "metadata": {},
   "outputs": [],
   "source": [
    "with open('example1.txt') as inputFile:\n",
    "    linesEx1 = inputFile.readlines()\n",
    "\n",
    "with open('example2.txt') as inputFile:\n",
    "    linesEx2 = inputFile.readlines()\n",
    "\n",
    "with open('input.txt') as inputFile:\n",
    "    lines = inputFile.readlines()"
   ]
  },
  {
   "cell_type": "markdown",
   "metadata": {},
   "source": [
    "##### Part 1"
   ]
  },
  {
   "cell_type": "code",
   "execution_count": 36,
   "metadata": {},
   "outputs": [
    {
     "name": "stdout",
     "output_type": "stream",
     "text": [
      "Example input: 142\n",
      "Real input: 54331\n"
     ]
    }
   ],
   "source": [
    "def part_one(inputLines):\n",
    "    sum = 0\n",
    "    for line in inputLines:\n",
    "        number = \"\"\n",
    "        for i in line:\n",
    "            if i.isdigit():\n",
    "                number += i\n",
    "                break\n",
    "        for i in range(len(line) - 1, -1, -1):\n",
    "            if line[i].isdigit():\n",
    "                number += line[i]\n",
    "                break\n",
    "        sum += int(number)\n",
    "    return(sum)\n",
    "\n",
    "print(\"Example input: \" + str(part_one(linesEx1)))\n",
    "print(\"Real input: \" + str(part_one(lines)))"
   ]
  },
  {
   "cell_type": "markdown",
   "metadata": {},
   "source": [
    "##### Part 2"
   ]
  },
  {
   "cell_type": "code",
   "execution_count": 37,
   "metadata": {},
   "outputs": [
    {
     "name": "stdout",
     "output_type": "stream",
     "text": [
      "Example input: 281\n",
      "Real input: 54518\n"
     ]
    }
   ],
   "source": [
    "def part_two(inputLines):\n",
    "    digits = [\"zero\", \"one\", \"two\", \"three\", \"four\", \"five\", \"six\", \"seven\", \"eight\", \"nine\"]\n",
    "\n",
    "    sum = 0\n",
    "    for line in inputLines:\n",
    "        firstIndex, firstWord = len(line) - 1, None\n",
    "        for i in line:\n",
    "            if i.isdigit():\n",
    "                firstIndex = line.index(i)\n",
    "                break\n",
    "        for digit in digits:\n",
    "            wordIndex = line.find(digit)\n",
    "            if wordIndex > -1:\n",
    "                if wordIndex < firstIndex:\n",
    "                    firstIndex = wordIndex\n",
    "                    firstWord = digit\n",
    "\n",
    "        lastIndex, lastWord = 0, None\n",
    "        for i in range(len(line) - 1, -1, -1):\n",
    "            if line[i].isdigit():\n",
    "                lastIndex = i\n",
    "                break\n",
    "        for digit in digits:\n",
    "            wordIndex = line.rfind(digit)\n",
    "            if wordIndex > -1:\n",
    "                if wordIndex > lastIndex:\n",
    "                    lastIndex = wordIndex\n",
    "                    lastWord = digit\n",
    "        \n",
    "        if firstWord == None:\n",
    "            firstDigit = line[firstIndex]\n",
    "        else:\n",
    "            firstDigit = str(digits.index(firstWord))\n",
    "        if lastWord == None:\n",
    "            lastDigit = line[lastIndex]\n",
    "        else:\n",
    "            lastDigit = str(digits.index(lastWord))\n",
    "\n",
    "        sum += int(firstDigit + lastDigit)\n",
    "    return(sum)\n",
    "\n",
    "print(\"Example input: \" + str(part_two(linesEx2)))\n",
    "print(\"Real input: \" + str(part_two(lines)))"
   ]
  }
 ],
 "metadata": {
  "kernelspec": {
   "display_name": "Python 3",
   "language": "python",
   "name": "python3"
  },
  "language_info": {
   "codemirror_mode": {
    "name": "ipython",
    "version": 3
   },
   "file_extension": ".py",
   "mimetype": "text/x-python",
   "name": "python",
   "nbconvert_exporter": "python",
   "pygments_lexer": "ipython3",
   "version": "3.12.0"
  }
 },
 "nbformat": 4,
 "nbformat_minor": 2
}
