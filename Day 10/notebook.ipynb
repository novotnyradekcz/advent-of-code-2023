{
 "cells": [
  {
   "cell_type": "markdown",
   "metadata": {},
   "source": [
    "# Advent of Code 2023\n",
    "### Day 10: Pipe Maze"
   ]
  },
  {
   "cell_type": "markdown",
   "metadata": {},
   "source": [
    "##### Importing libraries"
   ]
  },
  {
   "cell_type": "code",
   "execution_count": 60,
   "metadata": {},
   "outputs": [],
   "source": [
    "import random"
   ]
  },
  {
   "cell_type": "markdown",
   "metadata": {},
   "source": [
    "##### Loading example and input file"
   ]
  },
  {
   "cell_type": "code",
   "execution_count": 61,
   "metadata": {},
   "outputs": [],
   "source": [
    "with open('example1.txt') as inputFile:\n",
    "    linesEx1 = inputFile.readlines()\n",
    "\n",
    "with open('example2.txt') as inputFile:\n",
    "    linesEx2 = inputFile.readlines()\n",
    "\n",
    "with open('input.txt') as inputFile:\n",
    "    lines = inputFile.readlines()"
   ]
  },
  {
   "cell_type": "markdown",
   "metadata": {},
   "source": [
    "##### Common functions"
   ]
  },
  {
   "cell_type": "code",
   "execution_count": 62,
   "metadata": {},
   "outputs": [],
   "source": [
    "def chooseStart(starting, grid):\n",
    "    if starting[0] < len(grid) - 1 and (grid[starting[0] + 1][starting[1]] == '|' or grid[starting[0] + 1][starting[1]] == 'L' or grid[starting[0] + 1][starting[1]] == 'J'):\n",
    "        current = (starting[0] + 1, starting[1])\n",
    "    elif starting[0] > 0 and (grid[starting[0] - 1][starting[1]] == '|' or [starting[0] - 1][starting[1]] == 'F' or grid[starting[0] - 1][starting[1]] == '7'):\n",
    "        current = (starting[0] - 1, starting[1])\n",
    "    elif starting[0] < len(grid[0]) and (grid[starting[0]][starting[1] + 1] == '-' or grid[starting[0]][starting[1] + 1] == 'J' or grid[starting[0]][starting[1] + 1] == '7'):\n",
    "        current = (starting[0], starting[1] + 1)\n",
    "    else:\n",
    "        current = (starting[0], starting[1] - 1)\n",
    "    return(current)\n",
    "\n",
    "def chooseNext(previous, current, grid):\n",
    "    match grid[current[0]][current[1]]:\n",
    "        case '|':\n",
    "            if previous[0] < current[0]:\n",
    "                next = (current[0] + 1, current[1])\n",
    "            else:\n",
    "                next = (current[0] - 1, current[1])\n",
    "        case '-':\n",
    "            if previous[1] < current[1]:\n",
    "                next = (current[0], current[1] + 1)\n",
    "            else:\n",
    "                next = (current[0], current[1] - 1)\n",
    "        case 'L':\n",
    "            if previous[0] == current[0]:\n",
    "                next = (current[0] - 1, current[1])\n",
    "            else:\n",
    "                next = (current[0], current[1] + 1)\n",
    "        case 'J':\n",
    "            if previous[0] == current[0]:\n",
    "                next = (current[0] - 1, current[1])\n",
    "            else:\n",
    "                next = (current[0], current[1] - 1)\n",
    "        case '7':\n",
    "            if previous[0] == current[0]:\n",
    "                next = (current[0] + 1, current[1])\n",
    "            else:\n",
    "                next = (current[0], current[1] - 1)\n",
    "        case 'F':\n",
    "            if previous[0] == current[0]:\n",
    "                next = (current[0] + 1, current[1])\n",
    "            else:\n",
    "                next = (current[0], current[1] + 1)\n",
    "    return(next)"
   ]
  },
  {
   "cell_type": "markdown",
   "metadata": {},
   "source": [
    "##### Part 1"
   ]
  },
  {
   "cell_type": "code",
   "execution_count": null,
   "metadata": {},
   "outputs": [],
   "source": [
    "def part_one(inputLines):\n",
    "    for i in range(len(inputLines)):\n",
    "        for j in range(len(inputLines[i])):\n",
    "            if inputLines[i][j] == 'S':\n",
    "                startingPosition = (i,  j)\n",
    "    \n",
    "    previousPosition = (startingPosition[0], startingPosition[1])\n",
    "    currentPosition = chooseStart(startingPosition, inputLines)\n",
    "    distance = 1\n",
    "    while currentPosition != startingPosition:\n",
    "        nextPosition = chooseNext(previousPosition, currentPosition, inputLines)\n",
    "        previousPosition = (currentPosition[0], currentPosition[1])\n",
    "        currentPosition = (nextPosition[0], nextPosition[1])\n",
    "        distance += 1\n",
    "    \n",
    "    return(int(distance / 2))\n",
    "\n",
    "print(\"Example input: \" + str(part_one(linesEx1)))\n",
    "print(\"Real input: \" + str(part_one(lines)))"
   ]
  },
  {
   "cell_type": "markdown",
   "metadata": {},
   "source": [
    "##### Part 2\n",
    "Based on visual inspection of printed output, `<` and `>` might need to be flipped as indicated by the comments below. It depends on whether the loop was traversed \"clockwise\" or \"counterclockwise\"."
   ]
  },
  {
   "cell_type": "code",
   "execution_count": null,
   "metadata": {},
   "outputs": [],
   "source": [
    "def part_two(inputLines):\n",
    "    for i in range(len(inputLines)):\n",
    "        for j in range(len(inputLines[i])):\n",
    "            if inputLines[i][j] == 'S':\n",
    "                startingPosition = (i, j)\n",
    "    \n",
    "    loop = [(startingPosition[0], startingPosition[1])]\n",
    "    previousPosition = (startingPosition[0], startingPosition[1])\n",
    "    currentPosition = chooseStart(startingPosition, inputLines)\n",
    "    loop.append((currentPosition[0], currentPosition[1]))\n",
    "    while currentPosition != startingPosition:\n",
    "        nextPosition = chooseNext(previousPosition, currentPosition, inputLines)\n",
    "        previousPosition = (currentPosition[0], currentPosition[1])\n",
    "        currentPosition = (nextPosition[0], nextPosition[1])\n",
    "        loop.append((currentPosition[0], currentPosition[1]))\n",
    "\n",
    "    enclosed = []\n",
    "    for i in range(1, len(loop)):\n",
    "        if loop[i][0] == loop[i - 1][0]:\n",
    "            if loop[i][1] < loop[i - 1][1]: # checking the left side, flip to > if checking right side\n",
    "                if (loop[i - 1][0] + 1, loop[i - 1][1]) not in loop:\n",
    "                    enclosed.append((loop[i - 1][0] + 1, loop[i - 1][1]))\n",
    "                if (loop[i][0] + 1, loop[i][1]) not in loop:\n",
    "                    enclosed.append((loop[i][0] + 1, loop[i][1]))\n",
    "            else:\n",
    "                if (loop[i - 1][0] - 1, loop[i - 1][1]) not in loop:\n",
    "                    enclosed.append((loop[i - 1][0] - 1, loop[i - 1][1]))\n",
    "                if (loop[i][0] - 1, loop[i][1]) not in loop:\n",
    "                    enclosed.append((loop[i][0] - 1, loop[i][1]))\n",
    "        else:\n",
    "            if loop[i][0] < loop[i - 1][0]: # checking the left side, flip to > if checking right side\n",
    "                if (loop[i - 1][0], loop[i - 1][1] - 1) not in loop:\n",
    "                    enclosed.append((loop[i - 1][0], loop[i - 1][1] - 1))\n",
    "                if (loop[i][0], loop[i][1] - 1) not in loop:\n",
    "                    enclosed.append((loop[i][0], loop[i][1] - 1))\n",
    "            else:\n",
    "                if (loop[i - 1][0], loop[i - 1][1] + 1) not in loop:\n",
    "                    enclosed.append((loop[i - 1][0], loop[i - 1][1] + 1))\n",
    "                if (loop[i][0], loop[i][1] + 1) not in loop:\n",
    "                    enclosed.append((loop[i][0], loop[i][1] + 1))\n",
    "\n",
    "    loopMap = []\n",
    "    for i in range(len(inputLines)):\n",
    "        loopMapLine = []\n",
    "        for j in range(len(inputLines[i])):\n",
    "            if (i, j) in loop:\n",
    "                loopMapLine.append('.')\n",
    "            elif (i, j) in enclosed:\n",
    "                loopMapLine.append('I')\n",
    "            else:\n",
    "                loopMapLine.append('O')\n",
    "        loopMap.append(loopMapLine)\n",
    "\n",
    "    for i in range(len(loopMap)):\n",
    "        for j in range(len(loopMap[i])):\n",
    "            if loopMap[i][j] == 'I':\n",
    "                k = 1\n",
    "                while j + k < len(loopMap[i]) and loopMap[i][j + k] == 'O':\n",
    "                    loopMap[i][j + k] = 'I'\n",
    "                    k += 1\n",
    "\n",
    "    print(\"\\nVisualisation for inspection:\")\n",
    "    counter = 0\n",
    "    for i in range(len(loopMap)):\n",
    "        for j in range(len(loopMap[i])):\n",
    "            if loopMap[i][j] == 'I':\n",
    "                counter += 1\n",
    "            print(loopMap[i][j], end=\"\")\n",
    "        print(\"\")\n",
    "\n",
    "    return(counter)\n",
    "\n",
    "print(\"Example input: \" + str(part_two(linesEx2)))\n",
    "print(\"Real input: \" + str(part_two(lines)))"
   ]
  }
 ],
 "metadata": {
  "kernelspec": {
   "display_name": "Python 3",
   "language": "python",
   "name": "python3"
  },
  "language_info": {
   "codemirror_mode": {
    "name": "ipython",
    "version": 3
   },
   "file_extension": ".py",
   "mimetype": "text/x-python",
   "name": "python",
   "nbconvert_exporter": "python",
   "pygments_lexer": "ipython3",
   "version": "3.12.0"
  }
 },
 "nbformat": 4,
 "nbformat_minor": 2
}
