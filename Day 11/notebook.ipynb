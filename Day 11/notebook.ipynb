{
 "cells": [
  {
   "cell_type": "markdown",
   "metadata": {},
   "source": [
    "# Advent of Code 2023\n",
    "### Day 11: Cosmic Expansion"
   ]
  },
  {
   "cell_type": "markdown",
   "metadata": {},
   "source": [
    "##### Importing libraries"
   ]
  },
  {
   "cell_type": "code",
   "execution_count": null,
   "metadata": {},
   "outputs": [],
   "source": []
  },
  {
   "cell_type": "markdown",
   "metadata": {},
   "source": [
    "##### Loading example and input file"
   ]
  },
  {
   "cell_type": "code",
   "execution_count": 61,
   "metadata": {},
   "outputs": [],
   "source": [
    "with open('example.txt') as inputFile:\n",
    "    linesEx = inputFile.readlines()\n",
    "\n",
    "with open('input.txt') as inputFile:\n",
    "    lines = inputFile.readlines()"
   ]
  },
  {
   "cell_type": "markdown",
   "metadata": {},
   "source": [
    "##### Common functions"
   ]
  },
  {
   "cell_type": "code",
   "execution_count": 62,
   "metadata": {},
   "outputs": [],
   "source": [
    "def getDistance(galaxyOne, galaxyTwo, emptyRows, emptyCols, expansion):\n",
    "    distance = abs(galaxyOne[0] - galaxyTwo[0]) + abs(galaxyOne[1] - galaxyTwo[1])\n",
    "    if galaxyOne[0] < galaxyTwo[0]:\n",
    "        for i in range(galaxyOne[0] + 1, galaxyTwo[0]):\n",
    "            if emptyRows[i]:\n",
    "                distance += (expansion - 1)\n",
    "    else:\n",
    "        for i in range(galaxyTwo[0] + 1, galaxyOne[0]):\n",
    "            if emptyRows[i]:\n",
    "                distance += (expansion - 1)\n",
    "    if galaxyOne[1] < galaxyTwo[1]:\n",
    "        for i in range(galaxyOne[1] + 1, galaxyTwo[1]):\n",
    "            if emptyCols[i]:\n",
    "                distance += (expansion - 1)\n",
    "    else:\n",
    "        for i in range(galaxyTwo[1] + 1, galaxyOne[1]):\n",
    "            if emptyCols[i]:\n",
    "                distance += (expansion - 1)\n",
    "    return(distance)\n",
    "\n",
    "def calculateDistances(inputLines, expansion):\n",
    "    galaxyMap = []\n",
    "    noGalaxiesInRows = []\n",
    "    noGalaxiesInCols = len(inputLines[0].strip('\\n')) * [True]\n",
    "\n",
    "    for line in inputLines:\n",
    "        strippedLine = line.strip('\\n')\n",
    "        mapLine = []\n",
    "        noGalaxies = True\n",
    "        for i in range(len(strippedLine)):\n",
    "            if strippedLine[i] == '#':\n",
    "                noGalaxies = False\n",
    "                noGalaxiesInCols[i] = False\n",
    "            mapLine.append(strippedLine[i])\n",
    "        noGalaxiesInRows.append(noGalaxies)\n",
    "        galaxyMap.append(mapLine)\n",
    "    \n",
    "    galaxies = []\n",
    "    for i in range(len(galaxyMap)):\n",
    "        for j in range(len(galaxyMap[i])):\n",
    "            if galaxyMap[i][j] == '#':\n",
    "                galaxies.append((i, j))\n",
    "    \n",
    "    distances = 0\n",
    "    for i in range(len(galaxies)):\n",
    "        for j in range(i + 1, len(galaxies)):\n",
    "            distance = getDistance(galaxies[i], galaxies[j], noGalaxiesInRows, noGalaxiesInCols, expansion)\n",
    "            distances += distance\n",
    "\n",
    "    return(distances)"
   ]
  },
  {
   "cell_type": "markdown",
   "metadata": {},
   "source": [
    "##### Part 1"
   ]
  },
  {
   "cell_type": "code",
   "execution_count": null,
   "metadata": {},
   "outputs": [],
   "source": [
    "print(\"Example input: \" + str(calculateDistances(linesEx, 2)))\n",
    "print(\"Real input: \" + str(calculateDistances(lines, 2)))"
   ]
  },
  {
   "cell_type": "markdown",
   "metadata": {},
   "source": [
    "##### Part 2"
   ]
  },
  {
   "cell_type": "code",
   "execution_count": null,
   "metadata": {},
   "outputs": [],
   "source": [
    "print(\"Example input: \" + str(calculateDistances(linesEx, 100)))\n",
    "print(\"Real input: \" + str(calculateDistances(lines, 1000000)))"
   ]
  }
 ],
 "metadata": {
  "kernelspec": {
   "display_name": "Python 3",
   "language": "python",
   "name": "python3"
  },
  "language_info": {
   "codemirror_mode": {
    "name": "ipython",
    "version": 3
   },
   "file_extension": ".py",
   "mimetype": "text/x-python",
   "name": "python",
   "nbconvert_exporter": "python",
   "pygments_lexer": "ipython3",
   "version": "3.12.0"
  }
 },
 "nbformat": 4,
 "nbformat_minor": 2
}
