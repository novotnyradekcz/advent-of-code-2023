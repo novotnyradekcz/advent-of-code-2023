{
 "cells": [
  {
   "cell_type": "markdown",
   "metadata": {},
   "source": [
    "# Advent of Code 2023\n",
    "### Day 13: Point of Incidence"
   ]
  },
  {
   "cell_type": "markdown",
   "metadata": {},
   "source": [
    "##### Importing libraries"
   ]
  },
  {
   "cell_type": "code",
   "execution_count": null,
   "metadata": {},
   "outputs": [],
   "source": []
  },
  {
   "cell_type": "markdown",
   "metadata": {},
   "source": [
    "##### Loading example and input file"
   ]
  },
  {
   "cell_type": "code",
   "execution_count": 62,
   "metadata": {},
   "outputs": [],
   "source": [
    "with open('example.txt') as inputFile:\n",
    "    linesEx = inputFile.readlines()\n",
    "\n",
    "with open('input.txt') as inputFile:\n",
    "    lines = inputFile.readlines()"
   ]
  },
  {
   "cell_type": "markdown",
   "metadata": {},
   "source": [
    "##### Common functions"
   ]
  },
  {
   "cell_type": "code",
   "execution_count": 63,
   "metadata": {},
   "outputs": [],
   "source": [
    "def parseInput(inputLines):\n",
    "    sections = []\n",
    "    section = []\n",
    "    for line in inputLines:\n",
    "        if line == '\\n':\n",
    "            sections.append(section)\n",
    "            section = []\n",
    "        else:\n",
    "            section.append(line.strip('\\n'))\n",
    "    sections.append(section)\n",
    "    return(sections)\n",
    "\n",
    "def findReflection(section):\n",
    "    linesAbove = 0\n",
    "    for i in range(len(section) - 1):\n",
    "        if section[i] == section[i + 1]:\n",
    "            k = 1\n",
    "            reflection = True\n",
    "            while i - k >= 0 and i + k + 1 < len(section):\n",
    "                if section[i - k] != section[i + k + 1]:\n",
    "                    reflection = False\n",
    "                    break\n",
    "                k += 1\n",
    "            if reflection:\n",
    "                while i - k >= 0:\n",
    "                    k += 1\n",
    "                linesAbove += k\n",
    "    return(linesAbove)\n",
    "\n",
    "def transposeSection(section):\n",
    "    newSection = []\n",
    "    for j in range(len(section[0])):\n",
    "        newLine = \"\"\n",
    "        for i in range(len(section)):\n",
    "            newLine += section[i][j]\n",
    "        newSection.append(newLine)\n",
    "    return(newSection)"
   ]
  },
  {
   "cell_type": "markdown",
   "metadata": {},
   "source": [
    "##### Part 1"
   ]
  },
  {
   "cell_type": "code",
   "execution_count": null,
   "metadata": {},
   "outputs": [],
   "source": [
    "def partOne(inputLines):\n",
    "    sections = parseInput(inputLines)\n",
    "    verticalLeft = 0\n",
    "    horizontalAbove = 0\n",
    "    for section in sections:\n",
    "        horizontalAbove += findReflection(section)\n",
    "        transposedSection = transposeSection(section)\n",
    "        verticalLeft += findReflection(transposedSection)\n",
    "        \n",
    "    total = verticalLeft + 100 * horizontalAbove\n",
    "    return(total)\n",
    "\n",
    "print(\"Example input: \" + str(partOne(linesEx)))\n",
    "print(\"Real input: \" + str(partOne(lines)))"
   ]
  },
  {
   "cell_type": "markdown",
   "metadata": {},
   "source": [
    "##### Part 2"
   ]
  },
  {
   "cell_type": "code",
   "execution_count": null,
   "metadata": {},
   "outputs": [],
   "source": [
    "def fixSection(section, i, j):\n",
    "    fixedSection = []\n",
    "    for k in range(len(section)):\n",
    "        if k != i:\n",
    "            fixedSection.append(section[k])\n",
    "        else:\n",
    "            fixedLine = \"\"\n",
    "            for l in range(len(section[k])):\n",
    "                if l != j:\n",
    "                    fixedLine += section[k][l]\n",
    "                else:\n",
    "                    if section[k][l] == '#':\n",
    "                        fixedLine += '.'\n",
    "                    else:\n",
    "                        fixedLine += '#'\n",
    "            fixedSection.append(fixedLine)\n",
    "    return(fixedSection)\n",
    "\n",
    "def findReflections(section):\n",
    "    linesAbove = []\n",
    "    for i in range(len(section) - 1):\n",
    "        if section[i] == section[i + 1]:\n",
    "            k = 1\n",
    "            reflection = True\n",
    "            while i - k >= 0 and i + k + 1 < len(section):\n",
    "                if section[i - k] != section[i + k + 1]:\n",
    "                    reflection = False\n",
    "                    break\n",
    "                k += 1\n",
    "            if reflection:\n",
    "                while i - k >= 0:\n",
    "                    k += 1\n",
    "                linesAbove.append(k)\n",
    "    return(linesAbove)\n",
    "\n",
    "def partTwo(inputLines):\n",
    "    sections = parseInput(inputLines)\n",
    "    verticalLeft = 0\n",
    "    horizontalAbove = 0\n",
    "    for section in sections:\n",
    "        oldHorizontal = findReflection(section)\n",
    "        transposedSection = transposeSection(section)\n",
    "        oldVertical = findReflection(transposedSection)\n",
    "        found = False\n",
    "        for i in range(len(section)):\n",
    "            for j in range(len(section[i])):\n",
    "                fixedSection = fixSection(section, i, j)\n",
    "                horizontals = findReflections(fixedSection)\n",
    "                transposedSection = transposeSection(fixedSection)\n",
    "                verticals = findReflections(transposedSection)\n",
    "                if horizontals != []:\n",
    "                    for horizontal in horizontals:\n",
    "                        if horizontal != oldHorizontal:\n",
    "                            horizontalAbove += horizontal\n",
    "                            found = True\n",
    "                if verticals != []:\n",
    "                    for vertical in verticals:\n",
    "                        if vertical != oldVertical:\n",
    "                            verticalLeft += vertical\n",
    "                            found = True\n",
    "                if found:\n",
    "                    break\n",
    "            if found:\n",
    "                break\n",
    "        if found:\n",
    "            continue\n",
    "        \n",
    "    total = verticalLeft + 100 * horizontalAbove\n",
    "    return(total)\n",
    "\n",
    "print(\"Example input: \" + str(partTwo(linesEx)))\n",
    "print(\"Real input: \" + str(partTwo(lines)))"
   ]
  }
 ],
 "metadata": {
  "kernelspec": {
   "display_name": "Python 3",
   "language": "python",
   "name": "python3"
  },
  "language_info": {
   "codemirror_mode": {
    "name": "ipython",
    "version": 3
   },
   "file_extension": ".py",
   "mimetype": "text/x-python",
   "name": "python",
   "nbconvert_exporter": "python",
   "pygments_lexer": "ipython3",
   "version": "3.12.0"
  }
 },
 "nbformat": 4,
 "nbformat_minor": 2
}
