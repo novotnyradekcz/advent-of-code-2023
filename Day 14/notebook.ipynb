{
 "cells": [
  {
   "cell_type": "markdown",
   "metadata": {},
   "source": [
    "# Advent of Code 2023\n",
    "### Day 14: Parabolic Reflector Dish"
   ]
  },
  {
   "cell_type": "markdown",
   "metadata": {},
   "source": [
    "##### Importing libraries"
   ]
  },
  {
   "cell_type": "code",
   "execution_count": null,
   "metadata": {},
   "outputs": [],
   "source": []
  },
  {
   "cell_type": "markdown",
   "metadata": {},
   "source": [
    "##### Loading example and input file"
   ]
  },
  {
   "cell_type": "code",
   "execution_count": 34,
   "metadata": {},
   "outputs": [],
   "source": [
    "with open('example.txt') as inputFile:\n",
    "    linesEx = inputFile.readlines()\n",
    "\n",
    "with open('input.txt') as inputFile:\n",
    "    lines = inputFile.readlines()"
   ]
  },
  {
   "cell_type": "markdown",
   "metadata": {},
   "source": [
    "##### Common functions"
   ]
  },
  {
   "cell_type": "code",
   "execution_count": 35,
   "metadata": {},
   "outputs": [],
   "source": [
    "def parseInput(inputLines):\n",
    "    rocks = []\n",
    "    for line in inputLines:\n",
    "        rockLine = []\n",
    "        stripLine = line.strip('\\n')\n",
    "        for rock in stripLine:\n",
    "            rockLine.append(rock)\n",
    "        rocks.append(rockLine)\n",
    "    return(rocks)"
   ]
  },
  {
   "cell_type": "markdown",
   "metadata": {},
   "source": [
    "##### Part 1"
   ]
  },
  {
   "cell_type": "code",
   "execution_count": null,
   "metadata": {},
   "outputs": [],
   "source": [
    "def partOne(inputLines):\n",
    "    rocks = parseInput(inputLines)\n",
    "    \n",
    "    for j in range(len(rocks[0]) - 1, -1, -1):\n",
    "        counter = 0\n",
    "        for i in range(len(rocks) - 1, -1, -1):\n",
    "            if rocks[i][j] == 'O':\n",
    "                rocks[i][j] = '.'\n",
    "                counter += 1\n",
    "            elif rocks[i][j] == '#':\n",
    "                for k in range(1, counter + 1):\n",
    "                    rocks[i + k][j] = 'O'\n",
    "                counter = 0\n",
    "        for k in range(counter):\n",
    "            rocks[k][j] = 'O'\n",
    "    \n",
    "    weight = 0    \n",
    "    for i in range(len(rocks)):\n",
    "        for j in range(len(rocks[i])):\n",
    "            if rocks[i][j] == 'O':\n",
    "                weight += len(rocks) - i\n",
    "\n",
    "    return(weight)\n",
    "\n",
    "print(\"Example input: \" + str(partOne(linesEx)))\n",
    "print(\"Real input: \" + str(partOne(lines)))"
   ]
  },
  {
   "cell_type": "markdown",
   "metadata": {},
   "source": [
    "##### Part 2"
   ]
  },
  {
   "cell_type": "code",
   "execution_count": null,
   "metadata": {},
   "outputs": [],
   "source": [
    "def getPositions(rocks):\n",
    "    rockPositions = []\n",
    "    for i in range(len(rocks)):\n",
    "        for j in range(len(rocks[i])):\n",
    "            if rocks[i][j] == 'O':\n",
    "                rockPositions.append((i, j))\n",
    "    return(rockPositions)\n",
    "\n",
    "def partTwo(inputLines):\n",
    "    rocks = parseInput(inputLines)\n",
    "    rockPositions = [getPositions(rocks)]\n",
    "    cycles = 1000000000\n",
    "    \n",
    "    for cycle in range(cycles):\n",
    "        # print(str(cycle) + \"/\" + str(cycles))   # for checking progress\n",
    "        # north:\n",
    "        for j in range(len(rocks[0]) - 1, -1, -1):\n",
    "            counter = 0\n",
    "            for i in range(len(rocks) - 1, -1, -1):\n",
    "                if rocks[i][j] == 'O':\n",
    "                    rocks[i][j] = '.'\n",
    "                    counter += 1\n",
    "                elif rocks[i][j] == '#':\n",
    "                    for k in range(1, counter + 1):\n",
    "                        rocks[i + k][j] = 'O'\n",
    "                    counter = 0\n",
    "            for k in range(counter):\n",
    "                rocks[k][j] = 'O'\n",
    "        # west:\n",
    "        for i in range(len(rocks[0]) - 1, -1, -1):\n",
    "            counter = 0\n",
    "            for j in range(len(rocks) - 1, -1, -1):\n",
    "                if rocks[i][j] == 'O':\n",
    "                    rocks[i][j] = '.'\n",
    "                    counter += 1\n",
    "                elif rocks[i][j] == '#':\n",
    "                    for k in range(1, counter + 1):\n",
    "                        rocks[i][j + k] = 'O'\n",
    "                    counter = 0\n",
    "            for k in range(counter):\n",
    "                rocks[i][k] = 'O'\n",
    "        # south\n",
    "        for j in range(len(rocks[0])):\n",
    "            counter = 0\n",
    "            for i in range(len(rocks)):\n",
    "                if rocks[i][j] == 'O':\n",
    "                    rocks[i][j] = '.'\n",
    "                    counter += 1\n",
    "                elif rocks[i][j] == '#':\n",
    "                    for k in range(1, counter + 1):\n",
    "                        rocks[i - k][j] = 'O'\n",
    "                    counter = 0\n",
    "            for k in range(1, counter + 1):\n",
    "                rocks[len(rocks) - k][j] = 'O'\n",
    "        # east:\n",
    "        for i in range(len(rocks[0])):\n",
    "            counter = 0\n",
    "            for j in range(len(rocks)):\n",
    "                if rocks[i][j] == 'O':\n",
    "                    rocks[i][j] = '.'\n",
    "                    counter += 1\n",
    "                elif rocks[i][j] == '#':\n",
    "                    for k in range(1, counter + 1):\n",
    "                        rocks[i][j - k] = 'O'\n",
    "                    counter = 0\n",
    "            for k in range(1, counter + 1):\n",
    "                rocks[i][len(rocks[i]) - k] = 'O'\n",
    "        \n",
    "        currentRockPositions = getPositions(rocks)\n",
    "        if currentRockPositions in rockPositions:\n",
    "            offset = rockPositions.index(currentRockPositions)\n",
    "            period = cycle + 1 - rockPositions.index(currentRockPositions)\n",
    "            finalRockPositionsIndex = (cycles - offset) % period + offset\n",
    "            finalRockPositions = rockPositions[finalRockPositionsIndex]\n",
    "            break\n",
    "        else:\n",
    "            rockPositions.append(currentRockPositions)\n",
    "    \n",
    "    weight = 0   \n",
    "    for position in finalRockPositions:\n",
    "        weight += len(rocks) - position[0]\n",
    "\n",
    "    return(weight)\n",
    "\n",
    "print(\"Example input: \" + str(partTwo(linesEx)))\n",
    "print(\"Real input: \" + str(partTwo(lines)))"
   ]
  }
 ],
 "metadata": {
  "kernelspec": {
   "display_name": "Python 3",
   "language": "python",
   "name": "python3"
  },
  "language_info": {
   "codemirror_mode": {
    "name": "ipython",
    "version": 3
   },
   "file_extension": ".py",
   "mimetype": "text/x-python",
   "name": "python",
   "nbconvert_exporter": "python",
   "pygments_lexer": "ipython3",
   "version": "3.12.0"
  }
 },
 "nbformat": 4,
 "nbformat_minor": 2
}
