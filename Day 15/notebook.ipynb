{
 "cells": [
  {
   "cell_type": "markdown",
   "metadata": {},
   "source": [
    "# Advent of Code 2023\n",
    "### Day 15: Lens Library"
   ]
  },
  {
   "cell_type": "markdown",
   "metadata": {},
   "source": [
    "##### Importing libraries"
   ]
  },
  {
   "cell_type": "code",
   "execution_count": null,
   "metadata": {},
   "outputs": [],
   "source": []
  },
  {
   "cell_type": "markdown",
   "metadata": {},
   "source": [
    "##### Loading example and input file"
   ]
  },
  {
   "cell_type": "code",
   "execution_count": 20,
   "metadata": {},
   "outputs": [],
   "source": [
    "with open('example.txt') as inputFile:\n",
    "    linesEx = inputFile.readlines()\n",
    "\n",
    "with open('input.txt') as inputFile:\n",
    "    lines = inputFile.readlines()"
   ]
  },
  {
   "cell_type": "markdown",
   "metadata": {},
   "source": [
    "##### Common functions"
   ]
  },
  {
   "cell_type": "code",
   "execution_count": null,
   "metadata": {},
   "outputs": [],
   "source": []
  },
  {
   "cell_type": "markdown",
   "metadata": {},
   "source": [
    "##### Part 1"
   ]
  },
  {
   "cell_type": "code",
   "execution_count": null,
   "metadata": {},
   "outputs": [],
   "source": [
    "def partOne(inputLines):\n",
    "    instructions = inputLines[0].strip('\\n').split(',')\n",
    "    total = 0\n",
    "    \n",
    "    for instruction in instructions:\n",
    "        currentValue = 0\n",
    "        for step in instruction:\n",
    "            currentValue += ord(step)\n",
    "            currentValue *= 17\n",
    "            currentValue %= 256\n",
    "        total += currentValue\n",
    "    \n",
    "    return(total)\n",
    "\n",
    "print(\"Example input: \" + str(partOne(linesEx)))\n",
    "print(\"Real input: \" + str(partOne(lines)))"
   ]
  },
  {
   "cell_type": "markdown",
   "metadata": {},
   "source": [
    "##### Part 2"
   ]
  },
  {
   "cell_type": "code",
   "execution_count": null,
   "metadata": {},
   "outputs": [],
   "source": [
    "def partTwo(inputLines):\n",
    "    instructions = inputLines[0].strip('\\n').split(',')\n",
    "    totalPower = 0\n",
    "    lensBoxes = [{} for i in range(256)]\n",
    "    \n",
    "    for instruction in instructions:\n",
    "        boxNumber = 0\n",
    "        i = 0\n",
    "        while instruction[i] != '-' and instruction[i] != '=':\n",
    "            boxNumber += ord(instruction[i])\n",
    "            boxNumber *= 17\n",
    "            boxNumber %= 256\n",
    "            i += 1\n",
    "        lensLabel = instruction[:i]\n",
    "        if instruction[i] == '-':\n",
    "            if lensBoxes[boxNumber].get(lensLabel) != None:\n",
    "                lensBoxes[boxNumber].pop(lensLabel)\n",
    "        elif instruction[i] == '=':\n",
    "            lensBoxes[boxNumber][lensLabel] = int(instruction[i + 1])\n",
    "    \n",
    "    for i in range(len(lensBoxes)):\n",
    "        lenses = list(lensBoxes[i].values())\n",
    "        for j in range(len(lenses)):\n",
    "            totalPower += (i + 1) * (j + 1) * (lenses[j])\n",
    "    \n",
    "    return(totalPower)\n",
    "\n",
    "print(\"Example input: \" + str(partTwo(linesEx)))\n",
    "print(\"Real input: \" + str(partTwo(lines)))"
   ]
  }
 ],
 "metadata": {
  "kernelspec": {
   "display_name": "Python 3",
   "language": "python",
   "name": "python3"
  },
  "language_info": {
   "codemirror_mode": {
    "name": "ipython",
    "version": 3
   },
   "file_extension": ".py",
   "mimetype": "text/x-python",
   "name": "python",
   "nbconvert_exporter": "python",
   "pygments_lexer": "ipython3",
   "version": "3.12.0"
  }
 },
 "nbformat": 4,
 "nbformat_minor": 2
}
