{
 "cells": [
  {
   "cell_type": "markdown",
   "metadata": {},
   "source": [
    "# Advent of Code 2023\n",
    "### Day 17: Clumsy Crucible"
   ]
  },
  {
   "cell_type": "markdown",
   "metadata": {},
   "source": [
    "##### Importing libraries"
   ]
  },
  {
   "cell_type": "code",
   "execution_count": null,
   "metadata": {},
   "outputs": [],
   "source": []
  },
  {
   "cell_type": "markdown",
   "metadata": {},
   "source": [
    "##### Loading example and input file"
   ]
  },
  {
   "cell_type": "code",
   "execution_count": 1,
   "metadata": {},
   "outputs": [],
   "source": [
    "with open('example.txt') as inputFile:\n",
    "    linesEx = inputFile.readlines()\n",
    "\n",
    "with open('input.txt') as inputFile:\n",
    "    lines = inputFile.readlines()"
   ]
  },
  {
   "cell_type": "markdown",
   "metadata": {},
   "source": [
    "##### Common functions"
   ]
  },
  {
   "cell_type": "code",
   "execution_count": 35,
   "metadata": {},
   "outputs": [],
   "source": []
  },
  {
   "cell_type": "markdown",
   "metadata": {},
   "source": [
    "##### Part 1"
   ]
  },
  {
   "cell_type": "code",
   "execution_count": null,
   "metadata": {},
   "outputs": [],
   "source": [
    "def oneStep(cityMap, currentPosition, heatLosses):\n",
    "    if currentPosition[2] == 0:\n",
    "        if currentPosition[0] > 0:\n",
    "            nexStepCandidates.append((currentPosition[0] - 1, currentPosition[1], 3))\n",
    "        if currentPosition[0] < len(cityMap) - 1:\n",
    "            nexStepCandidates.append((currentPosition[0] + 1, currentPosition[1], 1))\n",
    "        if straightSteps < 3 and currentPosition[1] < len(cityMap[0]) - 1:\n",
    "            nexStepCandidates.append((currentPosition[0], currentPosition[1] + 1, 0))\n",
    "    \n",
    "    if currentPosition[2] == 1:\n",
    "        if currentPosition[1] > 0:\n",
    "            nexStepCandidates.append((currentPosition[0], currentPosition[1] - 1, 2))\n",
    "        if currentPosition[1] < len(cityMap[0]) - 1:\n",
    "            nexStepCandidates.append((currentPosition[0], currentPosition[1] + 1, 0))\n",
    "        if straightSteps < 3 and currentPosition[0] < len(cityMap) - 1:\n",
    "            nexStepCandidates.append((currentPosition[0] + 1, currentPosition[1], 1))\n",
    "    \n",
    "    if currentPosition[2] == 2:\n",
    "        if currentPosition[0] > 0:\n",
    "            nexStepCandidates.append((currentPosition[0] - 1, currentPosition[1], 3))\n",
    "        if currentPosition[0] < len(cityMap) - 1:\n",
    "            nexStepCandidates.append((currentPosition[0] + 1, currentPosition[1], 1))\n",
    "        if straightSteps < 3 and currentPosition[1] > 0:\n",
    "            nexStepCandidates.append((currentPosition[0], currentPosition[1] - 1, 2))\n",
    "    \n",
    "    if currentPosition[2] == 3:\n",
    "        if currentPosition[1] > 0:\n",
    "            nexStepCandidates.append((currentPosition[0], currentPosition[1] - 1, 2))\n",
    "        if currentPosition[1] < len(cityMap[0]) - 1:\n",
    "            nexStepCandidates.append((currentPosition[0], currentPosition[1] + 1, 0))\n",
    "        if straightSteps < 3 and currentPosition[0] > 0:\n",
    "            nexStepCandidates.append((currentPosition[0] - 1, currentPosition[1], 3))\n",
    "    return(heatLoss)\n",
    "\n",
    "def partOne(inputLines):\n",
    "    cityMap = []\n",
    "    for line in inputLines:\n",
    "        cityMap.append(line.strip('\\n'))\n",
    "    print(cityMap)\n",
    "    straightSteps = 0\n",
    "    heatLoss = 0\n",
    "    currentPosition = (0, 0, 0) # third is direction - 0 left, 1 down, 2 right, 3 up\n",
    "    while currentPosition[0] != len(cityMap) and currentPosition[1] != len(cityMap[-1]) - 1:\n",
    "        nexStepCandidates = []\n",
    "        \n",
    "    \n",
    "    for candidtate in nexStepCandidates:\n",
    "        return()\n",
    "\n",
    "\n",
    "print(\"Example input: \" + str(partOne(linesEx)))\n",
    "print(\"Real input: \" + str(partOne(lines)))"
   ]
  },
  {
   "cell_type": "markdown",
   "metadata": {},
   "source": [
    "##### Part 2"
   ]
  },
  {
   "cell_type": "code",
   "execution_count": null,
   "metadata": {},
   "outputs": [],
   "source": [
    "def partTwo(inputLines):\n",
    "    \n",
    "\n",
    "print(\"Example input: \" + str(partTwo(linesEx)))\n",
    "print(\"Real input: \" + str(partTwo(lines)))"
   ]
  }
 ],
 "metadata": {
  "kernelspec": {
   "display_name": "Python 3",
   "language": "python",
   "name": "python3"
  },
  "language_info": {
   "codemirror_mode": {
    "name": "ipython",
    "version": 3
   },
   "file_extension": ".py",
   "mimetype": "text/x-python",
   "name": "python",
   "nbconvert_exporter": "python",
   "pygments_lexer": "ipython3",
   "version": "3.9.6"
  }
 },
 "nbformat": 4,
 "nbformat_minor": 2
}
