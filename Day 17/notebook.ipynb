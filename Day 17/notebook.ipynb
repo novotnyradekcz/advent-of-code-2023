{
 "cells": [
  {
   "cell_type": "markdown",
   "metadata": {},
   "source": [
    "# Advent of Code 2023\n",
    "### Day 17: Clumsy Crucible"
   ]
  },
  {
   "cell_type": "markdown",
   "metadata": {},
   "source": [
    "##### Importing libraries"
   ]
  },
  {
   "cell_type": "code",
   "execution_count": null,
   "metadata": {},
   "outputs": [],
   "source": []
  },
  {
   "cell_type": "markdown",
   "metadata": {},
   "source": [
    "##### Loading example and input file"
   ]
  },
  {
   "cell_type": "code",
   "execution_count": 2,
   "metadata": {},
   "outputs": [],
   "source": [
    "with open('example.txt') as inputFile:\n",
    "    linesEx = inputFile.readlines()\n",
    "\n",
    "with open('input.txt') as inputFile:\n",
    "    lines = inputFile.readlines()"
   ]
  },
  {
   "cell_type": "markdown",
   "metadata": {},
   "source": [
    "##### Common functions"
   ]
  },
  {
   "cell_type": "code",
   "execution_count": 35,
   "metadata": {},
   "outputs": [],
   "source": []
  },
  {
   "cell_type": "markdown",
   "metadata": {},
   "source": [
    "##### Part 1"
   ]
  },
  {
   "cell_type": "code",
   "execution_count": 3,
   "metadata": {},
   "outputs": [
    {
     "name": "stdout",
     "output_type": "stream",
     "text": [
      "['2413432311323', '3215453535623', '3255245654254', '3446585845452', '4546657867536', '1438598798454', '4457876987766', '3637877979653', '4654967986887', '4564679986453', '1224686865563', '2546548887735', '4322674655533']\n"
     ]
    },
    {
     "ename": "RecursionError",
     "evalue": "maximum recursion depth exceeded",
     "output_type": "error",
     "traceback": [
      "\u001b[1;31m---------------------------------------------------------------------------\u001b[0m",
      "\u001b[1;31mRecursionError\u001b[0m                            Traceback (most recent call last)",
      "Cell \u001b[1;32mIn[3], line 54\u001b[0m\n\u001b[0;32m     48\u001b[0m     \u001b[38;5;66;03m# third is direction - 0 left, 1 down, 2 right, 3 up\u001b[39;00m\n\u001b[0;32m     49\u001b[0m     \u001b[38;5;66;03m# fourth are straight steps\u001b[39;00m\n\u001b[0;32m     50\u001b[0m     \u001b[38;5;66;03m# fifth is heatLoss\u001b[39;00m\n\u001b[0;32m     51\u001b[0m     oneStep(cityMap, currentPosition, heatLoss, heatLosses)\n\u001b[1;32m---> 54\u001b[0m \u001b[38;5;28mprint\u001b[39m(\u001b[38;5;124m\"\u001b[39m\u001b[38;5;124mExample input: \u001b[39m\u001b[38;5;124m\"\u001b[39m \u001b[38;5;241m+\u001b[39m \u001b[38;5;28mstr\u001b[39m(\u001b[43mpartOne\u001b[49m\u001b[43m(\u001b[49m\u001b[43mlinesEx\u001b[49m\u001b[43m)\u001b[49m))\n\u001b[0;32m     55\u001b[0m \u001b[38;5;28mprint\u001b[39m(\u001b[38;5;124m\"\u001b[39m\u001b[38;5;124mReal input: \u001b[39m\u001b[38;5;124m\"\u001b[39m \u001b[38;5;241m+\u001b[39m \u001b[38;5;28mstr\u001b[39m(partOne(lines)))\n",
      "Cell \u001b[1;32mIn[3], line 51\u001b[0m, in \u001b[0;36mpartOne\u001b[1;34m(inputLines)\u001b[0m\n\u001b[0;32m     47\u001b[0m currentPosition \u001b[38;5;241m=\u001b[39m (\u001b[38;5;241m0\u001b[39m, \u001b[38;5;241m0\u001b[39m, \u001b[38;5;241m0\u001b[39m, \u001b[38;5;241m0\u001b[39m)\n\u001b[0;32m     48\u001b[0m \u001b[38;5;66;03m# third is direction - 0 left, 1 down, 2 right, 3 up\u001b[39;00m\n\u001b[0;32m     49\u001b[0m \u001b[38;5;66;03m# fourth are straight steps\u001b[39;00m\n\u001b[0;32m     50\u001b[0m \u001b[38;5;66;03m# fifth is heatLoss\u001b[39;00m\n\u001b[1;32m---> 51\u001b[0m \u001b[43moneStep\u001b[49m\u001b[43m(\u001b[49m\u001b[43mcityMap\u001b[49m\u001b[43m,\u001b[49m\u001b[43m \u001b[49m\u001b[43mcurrentPosition\u001b[49m\u001b[43m,\u001b[49m\u001b[43m \u001b[49m\u001b[43mheatLoss\u001b[49m\u001b[43m,\u001b[49m\u001b[43m \u001b[49m\u001b[43mheatLosses\u001b[49m\u001b[43m)\u001b[49m\n",
      "Cell \u001b[1;32mIn[3], line 38\u001b[0m, in \u001b[0;36moneStep\u001b[1;34m(cityMap, currentPosition, heatLoss, heatLosses)\u001b[0m\n\u001b[0;32m     35\u001b[0m         heatLosses\u001b[38;5;241m.\u001b[39mappend((currentPosition[\u001b[38;5;241m0\u001b[39m] \u001b[38;5;241m-\u001b[39m \u001b[38;5;241m1\u001b[39m, currentPosition[\u001b[38;5;241m1\u001b[39m], \u001b[38;5;241m3\u001b[39m, currentPosition[\u001b[38;5;241m3\u001b[39m] \u001b[38;5;241m+\u001b[39m \u001b[38;5;241m1\u001b[39m, cityMap[currentPosition[\u001b[38;5;241m0\u001b[39m]][currentPosition[\u001b[38;5;241m1\u001b[39m]]))\n\u001b[0;32m     37\u001b[0m \u001b[38;5;28;01mfor\u001b[39;00m position \u001b[38;5;129;01min\u001b[39;00m heatLosses:\n\u001b[1;32m---> 38\u001b[0m     \u001b[43moneStep\u001b[49m\u001b[43m(\u001b[49m\u001b[43mcityMap\u001b[49m\u001b[43m,\u001b[49m\u001b[43m \u001b[49m\u001b[43mposition\u001b[49m\u001b[43m,\u001b[49m\u001b[43m \u001b[49m\u001b[43mheatLoss\u001b[49m\u001b[43m,\u001b[49m\u001b[43m \u001b[49m\u001b[43mheatLosses\u001b[49m\u001b[43m)\u001b[49m\n",
      "Cell \u001b[1;32mIn[3], line 38\u001b[0m, in \u001b[0;36moneStep\u001b[1;34m(cityMap, currentPosition, heatLoss, heatLosses)\u001b[0m\n\u001b[0;32m     35\u001b[0m         heatLosses\u001b[38;5;241m.\u001b[39mappend((currentPosition[\u001b[38;5;241m0\u001b[39m] \u001b[38;5;241m-\u001b[39m \u001b[38;5;241m1\u001b[39m, currentPosition[\u001b[38;5;241m1\u001b[39m], \u001b[38;5;241m3\u001b[39m, currentPosition[\u001b[38;5;241m3\u001b[39m] \u001b[38;5;241m+\u001b[39m \u001b[38;5;241m1\u001b[39m, cityMap[currentPosition[\u001b[38;5;241m0\u001b[39m]][currentPosition[\u001b[38;5;241m1\u001b[39m]]))\n\u001b[0;32m     37\u001b[0m \u001b[38;5;28;01mfor\u001b[39;00m position \u001b[38;5;129;01min\u001b[39;00m heatLosses:\n\u001b[1;32m---> 38\u001b[0m     \u001b[43moneStep\u001b[49m\u001b[43m(\u001b[49m\u001b[43mcityMap\u001b[49m\u001b[43m,\u001b[49m\u001b[43m \u001b[49m\u001b[43mposition\u001b[49m\u001b[43m,\u001b[49m\u001b[43m \u001b[49m\u001b[43mheatLoss\u001b[49m\u001b[43m,\u001b[49m\u001b[43m \u001b[49m\u001b[43mheatLosses\u001b[49m\u001b[43m)\u001b[49m\n",
      "    \u001b[1;31m[... skipping similar frames: oneStep at line 38 (2974 times)]\u001b[0m\n",
      "Cell \u001b[1;32mIn[3], line 38\u001b[0m, in \u001b[0;36moneStep\u001b[1;34m(cityMap, currentPosition, heatLoss, heatLosses)\u001b[0m\n\u001b[0;32m     35\u001b[0m         heatLosses\u001b[38;5;241m.\u001b[39mappend((currentPosition[\u001b[38;5;241m0\u001b[39m] \u001b[38;5;241m-\u001b[39m \u001b[38;5;241m1\u001b[39m, currentPosition[\u001b[38;5;241m1\u001b[39m], \u001b[38;5;241m3\u001b[39m, currentPosition[\u001b[38;5;241m3\u001b[39m] \u001b[38;5;241m+\u001b[39m \u001b[38;5;241m1\u001b[39m, cityMap[currentPosition[\u001b[38;5;241m0\u001b[39m]][currentPosition[\u001b[38;5;241m1\u001b[39m]]))\n\u001b[0;32m     37\u001b[0m \u001b[38;5;28;01mfor\u001b[39;00m position \u001b[38;5;129;01min\u001b[39;00m heatLosses:\n\u001b[1;32m---> 38\u001b[0m     \u001b[43moneStep\u001b[49m\u001b[43m(\u001b[49m\u001b[43mcityMap\u001b[49m\u001b[43m,\u001b[49m\u001b[43m \u001b[49m\u001b[43mposition\u001b[49m\u001b[43m,\u001b[49m\u001b[43m \u001b[49m\u001b[43mheatLoss\u001b[49m\u001b[43m,\u001b[49m\u001b[43m \u001b[49m\u001b[43mheatLosses\u001b[49m\u001b[43m)\u001b[49m\n",
      "\u001b[1;31mRecursionError\u001b[0m: maximum recursion depth exceeded"
     ]
    }
   ],
   "source": [
    "def oneStep(cityMap, currentPosition, heatLoss, heatLosses):\n",
    "    if currentPosition[0] == len(cityMap) - 1 and currentPosition[1] == len(cityMap[-1]) - 1:\n",
    "        return(heatLoss + cityMap[currentPosition[0]][currentPosition[1]])\n",
    "\n",
    "    if currentPosition[2] == 0:\n",
    "        if currentPosition[0] > 0:\n",
    "            heatLosses.append((currentPosition[0] - 1, currentPosition[1], 3, 1, cityMap[currentPosition[0]][currentPosition[1]]))\n",
    "        if currentPosition[0] < len(cityMap) - 1:\n",
    "            heatLosses.append((currentPosition[0] + 1, currentPosition[1], 1, 1, cityMap[currentPosition[0]][currentPosition[1]]))\n",
    "        if currentPosition[3] < 3 and currentPosition[1] < len(cityMap[0]) - 1:\n",
    "            heatLosses.append((currentPosition[0], currentPosition[1] + 1, 0, currentPosition[3] + 1, cityMap[currentPosition[0]][currentPosition[1]]))\n",
    "    \n",
    "    if currentPosition[2] == 1:\n",
    "        if currentPosition[1] > 0:\n",
    "            heatLosses.append((currentPosition[0], currentPosition[1] - 1, 2, 1, cityMap[currentPosition[0]][currentPosition[1]]))\n",
    "        if currentPosition[1] < len(cityMap[0]) - 1:\n",
    "            heatLosses.append((currentPosition[0], currentPosition[1] + 1, 0, 1, cityMap[currentPosition[0]][currentPosition[1]]))\n",
    "        if currentPosition[3] < 3 and currentPosition[0] < len(cityMap) - 1:\n",
    "            heatLosses.append((currentPosition[0] + 1, currentPosition[1], 1, currentPosition[3] + 1, cityMap[currentPosition[0]][currentPosition[1]]))\n",
    "    \n",
    "    if currentPosition[2] == 2:\n",
    "        if currentPosition[0] > 0:\n",
    "            heatLosses.append((currentPosition[0] - 1, currentPosition[1], 3, 1, cityMap[currentPosition[0]][currentPosition[1]]))\n",
    "        if currentPosition[0] < len(cityMap) - 1:\n",
    "            heatLosses.append((currentPosition[0] + 1, currentPosition[1], 1, 1, cityMap[currentPosition[0]][currentPosition[1]]))\n",
    "        if currentPosition[23] < 3 and currentPosition[1] > 0:\n",
    "            heatLosses.append((currentPosition[0], currentPosition[1] - 1, 2, currentPosition[3] + 1, cityMap[currentPosition[0]][currentPosition[1]]))\n",
    "    \n",
    "    if currentPosition[2] == 3:\n",
    "        if currentPosition[1] > 0:\n",
    "            heatLosses.append((currentPosition[0], currentPosition[1] - 1, 2, 1, cityMap[currentPosition[0]][currentPosition[1]]))\n",
    "        if currentPosition[1] < len(cityMap[0]) - 1:\n",
    "            heatLosses.append((currentPosition[0], currentPosition[1] + 1, 0, 1, cityMap[currentPosition[0]][currentPosition[1]]))\n",
    "        if currentPosition[3] < 3 and currentPosition[0] > 0:\n",
    "            heatLosses.append((currentPosition[0] - 1, currentPosition[1], 3, currentPosition[3] + 1, cityMap[currentPosition[0]][currentPosition[1]]))\n",
    "    \n",
    "    for position in heatLosses:\n",
    "        oneStep(cityMap, position, heatLoss, heatLosses)\n",
    "\n",
    "def partOne(inputLines):\n",
    "    cityMap = []\n",
    "    for line in inputLines:\n",
    "        cityMap.append(line.strip('\\n'))\n",
    "    print(cityMap)\n",
    "    heatLosses = []\n",
    "    heatLoss = 0\n",
    "    currentPosition = (0, 0, 0, 0)\n",
    "    # third is direction - 0 left, 1 down, 2 right, 3 up\n",
    "    # fourth are straight steps\n",
    "    # fifth is heatLoss\n",
    "    oneStep(cityMap, currentPosition, heatLoss, heatLosses)\n",
    "\n",
    "\n",
    "print(\"Example input: \" + str(partOne(linesEx)))\n",
    "print(\"Real input: \" + str(partOne(lines)))"
   ]
  },
  {
   "cell_type": "code",
   "execution_count": 16,
   "metadata": {},
   "outputs": [
    {
     "name": "stdout",
     "output_type": "stream",
     "text": [
      "c\n"
     ]
    }
   ],
   "source": [
    "a = {\"a\": 2, \"b\": 4, \"c\": 1}\n",
    "print(min(a, key=a.get))"
   ]
  },
  {
   "cell_type": "code",
   "execution_count": 41,
   "metadata": {},
   "outputs": [
    {
     "name": "stdout",
     "output_type": "stream",
     "text": [
      "['2413432311323', '3215453535623', '3255245654254', '3446585845452', '4546657867536', '1438598798454', '4457876987766', '3637877979653', '4654967986887', '4564679986453', '1224686865563', '2546548887735', '4322674655533']\n",
      "Heatloss: 117\n",
      "2........1323\n",
      "32..4..5..623\n",
      "325524565..54\n",
      "3446585845..2\n",
      "45466578675.6\n",
      "14385987984..\n",
      "445787698776.\n",
      "36378779796..\n",
      "46549679868.7\n",
      "45646799864..\n",
      "122468686556.\n",
      "25465488877..\n",
      "43226746555..\n",
      "{(0, 0): 0, (0, 1): 4, (0, 2): 5, (0, 3): 14, (0, 4): 18, (0, 5): 21, (0, 6): 31, (0, 7): 34, (0, 8): 35, (0, 9): 44, (0, 10): 47, (0, 11): 49, (0, 12): 57, (1, 0): 3, (1, 1): 5, (1, 2): 6, (1, 3): 11, (1, 4): 15, (1, 5): 26, (1, 6): 29, (1, 7): 34, (1, 8): 38, (1, 9): 43, (1, 10): 49, (1, 11): 51, (1, 12): 54, (2, 0): 6, (2, 1): 7, (2, 2): 11, (2, 3): 16, (2, 4): 17, (2, 5): 21, (2, 6): 26, (2, 7): 40, (2, 8): 43, (2, 9): 47, (2, 10): 49, (2, 11): 54, (2, 12): 58, (3, 0): 14, (3, 1): 11, (3, 2): 15, (3, 3): 21, (3, 4): 22, (3, 5): 29, (3, 6): 31, (3, 7): 39, (3, 8): 43, (3, 9): 52, (3, 10): 53, (3, 11): 58, (3, 12): 60, (4, 0): 18, (4, 1): 23, (4, 2): 19, (4, 3): 25, (4, 4): 31, (4, 5): 34, (4, 6): 38, (4, 7): 46, (4, 8): 49, (4, 9): 56, (4, 10): 58, (4, 11): 61, (4, 12): 66, (5, 0): 19, (5, 1): 23, (5, 2): 22, (5, 3): 30, (5, 4): 35, (5, 5): 59, (5, 6): 61, (5, 7): 53, (5, 8): 58, (5, 9): 64, (5, 10): 68, (5, 11): 66, (5, 12): 70, (6, 0): 31, (6, 1): 27, (6, 2): 32, (6, 3): 37, (6, 4): 43, (6, 5): 50, (6, 6): 56, (6, 7): 62, (6, 8): 70, (6, 9): 71, (6, 10): 75, (6, 11): 81, (6, 12): 76, (7, 0): 34, (7, 1): 33, (7, 2): 35, (7, 3): 42, (7, 4): 50, (7, 5): 57, (7, 6): 63, (7, 7): 72, (7, 8): 77, (7, 9): 86, (7, 10): 81, (7, 11): 84, (7, 12): 79, (8, 0): 38, (8, 1): 44, (8, 2): 40, (8, 3): 44, (8, 4): 53, (8, 5): 63, (8, 6): 70, (8, 7): 79, (8, 8): 85, (8, 9): 91, (8, 10): 99, (8, 11): 92, (8, 12): 99, (9, 0): 53, (9, 1): 49, (9, 2): 54, (9, 3): 48, (9, 4): 54, (9, 5): 61, (9, 6): 79, (9, 7): 88, (9, 8): 96, (9, 9): 97, (9, 10): 101, (9, 11): 97, (9, 12): 100, (10, 0): 52, (10, 1): 51, (10, 2): 53, (10, 3): 52, (10, 4): 58, (10, 5): 66, (10, 6): 81, (10, 7): 89, (10, 8): 95, (10, 9): 102, (10, 10): 106, (10, 11): 109, (10, 12): 103, (11, 0): 54, (11, 1): 59, (11, 2): 57, (11, 3): 63, (11, 4): 63, (11, 5): 67, (11, 6): 75, (11, 7): 92, (11, 8): 100, (11, 9): 107, (11, 10): 113, (11, 11): 111, (11, 12): 108, (12, 0): 58, (12, 1): 61, (12, 2): 59, (12, 3): 61, (12, 4): 67, (12, 5): 74, (12, 6): 78, (12, 7): 84, (12, 8): 105, (12, 9): 110, (12, 10): 115, (12, 11): 114, (12, 12): 117} {(0, 0): ((-1, -1), (-2, -2)), (0, 1): ((0, 0), (-1, -1)), (0, 2): ((0, 1), (0, 0)), (0, 3): ((1, 3), (1, 2)), (0, 4): ((0, 3), (1, 3)), (0, 5): ((0, 4), (0, 3)), (0, 6): ((1, 6), (1, 5)), (0, 7): ((0, 6), (1, 6)), (0, 8): ((0, 7), (0, 6)), (0, 9): ((1, 9), (1, 8)), (0, 10): ((0, 9), (1, 9)), (0, 11): ((0, 10), (0, 9)), (0, 12): ((1, 12), (1, 11)), (1, 0): ((0, 0), (-1, -1)), (1, 1): ((1, 0), (0, 0)), (1, 2): ((0, 2), (0, 1)), (1, 3): ((1, 2), (0, 2)), (1, 4): ((1, 3), (1, 2)), (1, 5): ((0, 5), (0, 4)), (1, 6): ((1, 5), (0, 5)), (1, 7): ((1, 6), (1, 5)), (1, 8): ((0, 8), (0, 7)), (1, 9): ((1, 8), (0, 8)), (1, 10): ((1, 9), (1, 8)), (1, 11): ((0, 11), (0, 10)), (1, 12): ((1, 11), (0, 11)), (2, 0): ((1, 0), (0, 0)), (2, 1): ((1, 1), (1, 0)), (2, 2): ((1, 2), (0, 2)), (2, 3): ((2, 2), (1, 2)), (2, 4): ((1, 4), (1, 3)), (2, 5): ((2, 4), (1, 4)), (2, 6): ((2, 5), (2, 4)), (2, 7): ((1, 7), (1, 6)), (2, 8): ((1, 8), (0, 8)), (2, 9): ((1, 9), (1, 8)), (2, 10): ((2, 9), (1, 9)), (2, 11): ((2, 10), (2, 9)), (2, 12): ((1, 12), (1, 11)), (3, 0): ((3, 1), (2, 1)), (3, 1): ((2, 1), (1, 1)), (3, 2): ((3, 1), (2, 1)), (3, 3): ((3, 2), (3, 1)), (3, 4): ((2, 4), (1, 4)), (3, 5): ((2, 5), (2, 4)), (3, 6): ((2, 6), (2, 5)), (3, 7): ((3, 6), (2, 6)), (3, 8): ((3, 7), (3, 6)), (3, 9): ((2, 9), (1, 9)), (3, 10): ((2, 10), (2, 9)), (3, 11): ((3, 10), (2, 10)), (3, 12): ((3, 11), (3, 10)), (4, 0): ((3, 0), (3, 1)), (4, 1): ((4, 0), (3, 0)), (4, 2): ((3, 2), (3, 1)), (4, 3): ((4, 2), (3, 2)), (4, 4): ((4, 3), (4, 2)), (4, 5): ((3, 5), (2, 5)), (4, 6): ((3, 6), (2, 6)), (4, 7): ((4, 6), (3, 6)), (4, 8): ((3, 8), (3, 7)), (4, 9): ((4, 8), (3, 8)), (4, 10): ((3, 10), (2, 10)), (4, 11): ((3, 11), (3, 10)), (4, 12): ((3, 12), (3, 11)), (5, 0): ((4, 0), (3, 0)), (5, 1): ((5, 0), (4, 0)), (5, 2): ((4, 2), (3, 2)), (5, 3): ((5, 2), (4, 2)), (5, 4): ((5, 3), (5, 2)), (5, 5): ((6, 5), (6, 4)), (5, 6): ((5, 7), (4, 7)), (5, 7): ((4, 7), (4, 6)), (5, 8): ((4, 8), (3, 8)), (5, 9): ((4, 9), (4, 8)), (5, 10): ((5, 9), (4, 9)), (5, 11): ((4, 11), (3, 11)), (5, 12): ((5, 11), (4, 11)), (6, 0): ((6, 1), (5, 1)), (6, 1): ((5, 1), (5, 0)), (6, 2): ((6, 1), (5, 1)), (6, 3): ((5, 3), (5, 2)), (6, 4): ((5, 4), (5, 3)), (6, 5): ((6, 4), (5, 4)), (6, 6): ((6, 5), (6, 4)), (6, 7): ((5, 7), (4, 7)), (6, 8): ((6, 7), (5, 7)), (6, 9): ((5, 9), (4, 9)), (6, 10): ((5, 10), (5, 9)), (6, 11): ((6, 10), (5, 10)), (6, 12): ((5, 12), (5, 11)), (7, 0): ((6, 0), (6, 1)), (7, 1): ((6, 1), (5, 1)), (7, 2): ((6, 2), (6, 1)), (7, 3): ((7, 2), (6, 2)), (7, 4): ((7, 3), (7, 2)), (7, 5): ((6, 5), (6, 4)), (7, 6): ((6, 6), (6, 5)), (7, 7): ((7, 6), (6, 6)), (7, 8): ((6, 8), (6, 7)), (7, 9): ((7, 8), (6, 8)), (7, 10): ((6, 10), (5, 10)), (7, 11): ((7, 12), (6, 12)), (7, 12): ((6, 12), (5, 12)), (8, 0): ((7, 0), (6, 0)), (8, 1): ((8, 0), (7, 0)), (8, 2): ((7, 2), (6, 2)), (8, 3): ((8, 2), (7, 2)), (8, 4): ((8, 3), (8, 2)), (8, 5): ((7, 5), (6, 5)), (8, 6): ((8, 5), (7, 5)), (8, 7): ((8, 6), (8, 5)), (8, 8): ((7, 8), (6, 8)), (8, 9): ((8, 8), (7, 8)), (8, 10): ((8, 9), (8, 8)), (8, 11): ((7, 11), (7, 12)), (8, 12): ((8, 11), (7, 11)), (9, 0): ((9, 1), (8, 1)), (9, 1): ((8, 1), (8, 0)), (9, 2): ((9, 3), (8, 3)), (9, 3): ((8, 3), (8, 2)), (9, 4): ((9, 3), (8, 3)), (9, 5): ((9, 4), (9, 3)), (9, 6): ((8, 6), (8, 5)), (9, 7): ((8, 7), (8, 6)), (9, 8): ((9, 7), (8, 7)), (9, 9): ((8, 9), (8, 8)), (9, 10): ((9, 9), (8, 9)), (9, 11): ((8, 11), (7, 11)), (9, 12): ((9, 11), (8, 11)), (10, 0): ((10, 1), (9, 1)), (10, 1): ((9, 1), (8, 1)), (10, 2): ((10, 1), (9, 1)), (10, 3): ((9, 3), (8, 3)), (10, 4): ((10, 3), (9, 3)), (10, 5): ((10, 4), (10, 3)), (10, 6): ((11, 6), (11, 5)), (10, 7): ((10, 6), (11, 6)), (10, 8): ((10, 7), (10, 6)), (10, 9): ((9, 9), (8, 9)), (10, 10): ((9, 10), (9, 9)), (10, 11): ((10, 12), (9, 12)), (10, 12): ((9, 12), (9, 11)), (11, 0): ((10, 0), (10, 1)), (11, 1): ((11, 0), (10, 0)), (11, 2): ((10, 2), (10, 1)), (11, 3): ((11, 2), (10, 2)), (11, 4): ((10, 4), (10, 3)), (11, 5): ((11, 4), (10, 4)), (11, 6): ((11, 5), (11, 4)), (11, 7): ((12, 7), (12, 6)), (11, 8): ((11, 7), (12, 7)), (11, 9): ((11, 8), (11, 7)), (11, 10): ((10, 10), (9, 10)), (11, 11): ((11, 12), (10, 12)), (11, 12): ((10, 12), (9, 12)), (12, 0): ((11, 0), (10, 0)), (12, 1): ((12, 0), (11, 0)), (12, 2): ((11, 2), (10, 2)), (12, 3): ((12, 2), (11, 2)), (12, 4): ((12, 3), (12, 2)), (12, 5): ((11, 5), (11, 4)), (12, 6): ((12, 5), (11, 5)), (12, 7): ((12, 6), (12, 5)), (12, 8): ((11, 8), (11, 7)), (12, 9): ((12, 8), (11, 8)), (12, 10): ((12, 9), (12, 8)), (12, 11): ((11, 11), (11, 12)), (12, 12): ((12, 11), (11, 11))}\n",
      "Example input: 32\n"
     ]
    }
   ],
   "source": [
    "def partOne(inputLines):\n",
    "    cityMap = []\n",
    "    for line in inputLines:\n",
    "        cityMap.append(line.strip('\\n'))\n",
    "    print(cityMap)\n",
    "\n",
    "    unvisited = set()\n",
    "    distances = {}\n",
    "    parents = {}\n",
    "    heatLosses = {}\n",
    "    for i in range(len(cityMap)):\n",
    "        for j in range(len(cityMap[0])):\n",
    "            unvisited.add((i, j))\n",
    "            distances[(i, j)] = 1000000000\n",
    "            parents[(i, j)] = (-1, -1)\n",
    "            heatLosses[(i, j)] = int(cityMap[i][j])\n",
    "    \n",
    "    distances[(0, 0)] = 0\n",
    "    visited = set()\n",
    "    target = (len(cityMap) - 1, len(cityMap[0]) - 1)\n",
    "    parents[(0, 0)] = ((-1, -1), (-2, -2))\n",
    "    while len(unvisited) > 0:\n",
    "        minDistance = 1000000000\n",
    "        for next in unvisited:\n",
    "            if distances[next] < minDistance:\n",
    "                minDistance = distances[next]\n",
    "                current = next\n",
    "\n",
    "        if current == target:\n",
    "            print(\"Heatloss: \" + str(distances[current]))\n",
    "            break\n",
    "        unvisited.remove(current)\n",
    "        neighbours = set()\n",
    "        if current[0] == parents[current][0][0] and parents[current][0][0] == parents[current][1][0]:\n",
    "            neighbours.add((current[0] - 1, current[1]))\n",
    "            neighbours.add((current[0] + 1, current[1]))\n",
    "        elif current[1] == parents[current][1][1] and parents[current][0][1] == parents[current][1][1]:\n",
    "            neighbours.add((current[0], current[1] - 1))\n",
    "            neighbours.add((current[0], current[1] + 1))\n",
    "        else:\n",
    "            neighbours.add((current[0] - 1, current[1]))\n",
    "            neighbours.add((current[0] + 1, current[1]))\n",
    "            neighbours.add((current[0], current[1] - 1))\n",
    "            neighbours.add((current[0], current[1] + 1))\n",
    "        \n",
    "        for neighbour in neighbours:\n",
    "            if neighbour not in unvisited:\n",
    "                continue\n",
    "            distance = distances[current] + heatLosses[neighbour]\n",
    "            if distance < distances[neighbour]:\n",
    "                distances[neighbour] = distance\n",
    "                parents[neighbour] = (current, parents[current][0])\n",
    "    \n",
    "    bestPath = []\n",
    "    node = target\n",
    "    while node != (0, 0):\n",
    "        bestPath.append(node)\n",
    "        node = parents[node][0]\n",
    "    \n",
    "    for i in range(len(cityMap)):\n",
    "        for j in range(len(cityMap[i])):\n",
    "            if (i, j) in bestPath:\n",
    "                print(\".\", end=\"\")\n",
    "            else:\n",
    "                print(cityMap[i][j], end=\"\")\n",
    "        print()\n",
    "\n",
    "    print(distances, parents)\n",
    "    return(len(bestPath))\n",
    "\n",
    "\n",
    "print(\"Example input: \" + str(partOne(linesEx)))\n",
    "# print(\"Real input: \" + str(partOne(lines)))"
   ]
  },
  {
   "cell_type": "markdown",
   "metadata": {},
   "source": [
    "##### Part 2"
   ]
  },
  {
   "cell_type": "code",
   "execution_count": null,
   "metadata": {},
   "outputs": [],
   "source": [
    "def partTwo(inputLines):\n",
    "    \n",
    "\n",
    "print(\"Example input: \" + str(partTwo(linesEx)))\n",
    "print(\"Real input: \" + str(partTwo(lines)))"
   ]
  }
 ],
 "metadata": {
  "kernelspec": {
   "display_name": "Python 3",
   "language": "python",
   "name": "python3"
  },
  "language_info": {
   "codemirror_mode": {
    "name": "ipython",
    "version": 3
   },
   "file_extension": ".py",
   "mimetype": "text/x-python",
   "name": "python",
   "nbconvert_exporter": "python",
   "pygments_lexer": "ipython3",
   "version": "3.12.0"
  }
 },
 "nbformat": 4,
 "nbformat_minor": 2
}
