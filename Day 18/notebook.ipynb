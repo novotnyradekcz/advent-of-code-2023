{
 "cells": [
  {
   "cell_type": "markdown",
   "metadata": {},
   "source": [
    "# Advent of Code 2023\n",
    "### Day 17: Lavaduct Lagoon"
   ]
  },
  {
   "cell_type": "markdown",
   "metadata": {},
   "source": [
    "##### Importing libraries"
   ]
  },
  {
   "cell_type": "code",
   "execution_count": null,
   "metadata": {},
   "outputs": [],
   "source": []
  },
  {
   "cell_type": "markdown",
   "metadata": {},
   "source": [
    "##### Loading example and input file"
   ]
  },
  {
   "cell_type": "code",
   "execution_count": 1,
   "metadata": {},
   "outputs": [],
   "source": [
    "with open('example.txt') as inputFile:\n",
    "    linesEx = inputFile.readlines()\n",
    "\n",
    "with open('input.txt') as inputFile:\n",
    "    lines = inputFile.readlines()"
   ]
  },
  {
   "cell_type": "markdown",
   "metadata": {},
   "source": [
    "##### Common functions"
   ]
  },
  {
   "cell_type": "code",
   "execution_count": 32,
   "metadata": {},
   "outputs": [],
   "source": [
    "def parseInput(inputLines):\n",
    "    directions = []\n",
    "\n",
    "    for line in inputLines:\n",
    "        splitLine = line.strip('\\n').split()\n",
    "        directions.append((splitLine[0], int(splitLine[1]), splitLine[2].strip('()')))\n",
    "    return(directions)\n",
    "\n",
    "def fillInLoop(loop):\n",
    "    enclosed = []\n",
    "    for i in range(1, len(loop)):\n",
    "        if loop[i][0] == loop[i - 1][0]:\n",
    "            if loop[i][1] > loop[i - 1][1]: # checking the left side, flip to > if checking right side\n",
    "                if (loop[i - 1][0] + 1, loop[i - 1][1]) not in loop:\n",
    "                    enclosed.append((loop[i - 1][0] + 1, loop[i - 1][1]))\n",
    "                if (loop[i][0] + 1, loop[i][1]) not in loop:\n",
    "                    enclosed.append((loop[i][0] + 1, loop[i][1]))\n",
    "            else:\n",
    "                if (loop[i - 1][0] - 1, loop[i - 1][1]) not in loop:\n",
    "                    enclosed.append((loop[i - 1][0] - 1, loop[i - 1][1]))\n",
    "                if (loop[i][0] - 1, loop[i][1]) not in loop:\n",
    "                    enclosed.append((loop[i][0] - 1, loop[i][1]))\n",
    "        else:\n",
    "            if loop[i][0] > loop[i - 1][0]: # checking the left side, flip to > if checking right side\n",
    "                if (loop[i - 1][0], loop[i - 1][1] - 1) not in loop:\n",
    "                    enclosed.append((loop[i - 1][0], loop[i - 1][1] - 1))\n",
    "                if (loop[i][0], loop[i][1] - 1) not in loop:\n",
    "                    enclosed.append((loop[i][0], loop[i][1] - 1))\n",
    "            else:\n",
    "                if (loop[i - 1][0], loop[i - 1][1] + 1) not in loop:\n",
    "                    enclosed.append((loop[i - 1][0], loop[i - 1][1] + 1))\n",
    "                if (loop[i][0], loop[i][1] + 1) not in loop:\n",
    "                    enclosed.append((loop[i][0], loop[i][1] + 1))\n",
    "\n",
    "    loopMap = []\n",
    "    for i in range(min(loop, key=lambda x: x[0])[0], max(loop, key=lambda x: x[0])[0] + 1):\n",
    "        loopMapLine = []\n",
    "        for j in range(min(loop, key=lambda x: x[1])[1], max(loop, key=lambda x: x[1])[1] + 1):\n",
    "            if (i, j) in loop:\n",
    "                loopMapLine.append('#')\n",
    "            elif (i, j) in enclosed:\n",
    "                loopMapLine.append('I')\n",
    "            else:\n",
    "                loopMapLine.append('O')\n",
    "        loopMap.append(loopMapLine)\n",
    "\n",
    "    for i in range(len(loopMap)):\n",
    "        for j in range(len(loopMap[i])):\n",
    "            if loopMap[i][j] == 'I':\n",
    "                k = 1\n",
    "                while j + k < len(loopMap[i]) and loopMap[i][j + k] == 'O':\n",
    "                    loopMap[i][j + k] = 'I'\n",
    "                    k += 1\n",
    "\n",
    "    # print(\"\\nVisualisation for inspection:\")\n",
    "    counter = 0\n",
    "    for i in range(len(loopMap)):\n",
    "        for j in range(len(loopMap[i])):\n",
    "            if loopMap[i][j] == 'I' or loopMap[i][j] == '#':\n",
    "                counter += 1\n",
    "        #     print(loopMap[i][j], end=\"\")\n",
    "        # print(\"\")\n",
    "\n",
    "    return(counter)"
   ]
  },
  {
   "cell_type": "markdown",
   "metadata": {},
   "source": [
    "##### Part 1"
   ]
  },
  {
   "cell_type": "code",
   "execution_count": 37,
   "metadata": {},
   "outputs": [
    {
     "name": "stdout",
     "output_type": "stream",
     "text": [
      "Example input: 62\n",
      "Real input: 50465\n"
     ]
    }
   ],
   "source": [
    "def partOne(inputLines):\n",
    "    directions = parseInput(inputLines)\n",
    "    # print(directions)\n",
    "    trench = [(0, 0, '#000000')]\n",
    "    for direction in directions:\n",
    "        if direction[0] == 'U':\n",
    "            for cube in range(direction[1]):\n",
    "                trench.append((trench[-1][0] - 1, trench[-1][1], direction[2]))\n",
    "        elif direction[0] == 'D':\n",
    "            for cube in range(direction[1]):\n",
    "                trench.append((trench[-1][0] + 1, trench[-1][1], direction[2]))\n",
    "        elif direction[0] == 'L':\n",
    "            for cube in range(direction[1]):\n",
    "                trench.append((trench[-1][0], trench[-1][1] - 1, direction[2]))\n",
    "        elif direction[0] == 'R':\n",
    "            for cube in range(direction[1]):\n",
    "                trench.append((trench[-1][0], trench[-1][1] + 1, direction[2]))\n",
    "    trench.remove((0, 0, '#000000'))\n",
    "\n",
    "    # print(trench)\n",
    "    noColors = []\n",
    "    for cube in trench:\n",
    "        noColors.append((cube[0], cube[1]))\n",
    "\n",
    "    # for i in range(min(trench, key=lambda x: x[0])[0], max(trench, key=lambda x: x[0])[0] + 1):\n",
    "    #     for j in range(min(trench, key=lambda x: x[1])[1], max(trench, key=lambda x: x[1])[1] + 1):\n",
    "    #         if (i, j) in noColors:\n",
    "    #             print('#', end=\"\")\n",
    "    #         else:\n",
    "    #             print('.', end=\"\")\n",
    "    #     print()\n",
    "    return(fillInLoop(noColors))\n",
    "\n",
    "\n",
    "print(\"Example input: \" + str(partOne(linesEx)))\n",
    "print(\"Real input: \" + str(partOne(lines)))"
   ]
  },
  {
   "cell_type": "markdown",
   "metadata": {},
   "source": [
    "##### Part 2"
   ]
  },
  {
   "cell_type": "code",
   "execution_count": null,
   "metadata": {},
   "outputs": [],
   "source": [
    "def partTwo(inputLines):\n",
    "    floorMap = parseInput(inputLines)\n",
    "    \n",
    "    startingPositions = []\n",
    "    for i in range(1, len(floorMap) - 1):\n",
    "        startingPositions.append((i, 1, 0))\n",
    "        startingPositions.append((i, len(floorMap[i]) - 2, 2))\n",
    "    for i in range(1, len(floorMap[0]) - 1):\n",
    "        startingPositions.append((1, i, 1))\n",
    "        startingPositions.append((len(floorMap[0]) - 2, i, 3))\n",
    "\n",
    "    energisedCounts = []\n",
    "    for p in range(len(startingPositions)):\n",
    "        energisedCounts.append(countEnergised(floorMap, startingPositions[p], 1000000))\n",
    "    \n",
    "    return(max(energisedCounts))\n",
    "\n",
    "print(\"Example input: \" + str(partTwo(linesEx)))\n",
    "print(\"Real input: \" + str(partTwo(lines)))"
   ]
  }
 ],
 "metadata": {
  "kernelspec": {
   "display_name": "Python 3",
   "language": "python",
   "name": "python3"
  },
  "language_info": {
   "codemirror_mode": {
    "name": "ipython",
    "version": 3
   },
   "file_extension": ".py",
   "mimetype": "text/x-python",
   "name": "python",
   "nbconvert_exporter": "python",
   "pygments_lexer": "ipython3",
   "version": "3.9.6"
  }
 },
 "nbformat": 4,
 "nbformat_minor": 2
}
