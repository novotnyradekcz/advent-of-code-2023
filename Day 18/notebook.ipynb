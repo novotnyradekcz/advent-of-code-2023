{
 "cells": [
  {
   "cell_type": "markdown",
   "metadata": {},
   "source": [
    "# Advent of Code 2023\n",
    "### Day 18: Lavaduct Lagoon"
   ]
  },
  {
   "cell_type": "markdown",
   "metadata": {},
   "source": [
    "##### Importing libraries"
   ]
  },
  {
   "cell_type": "code",
   "execution_count": null,
   "metadata": {},
   "outputs": [],
   "source": []
  },
  {
   "cell_type": "markdown",
   "metadata": {},
   "source": [
    "##### Loading example and input file"
   ]
  },
  {
   "cell_type": "code",
   "execution_count": 24,
   "metadata": {},
   "outputs": [],
   "source": [
    "with open('example.txt') as inputFile:\n",
    "    linesEx = inputFile.readlines()\n",
    "\n",
    "with open('input.txt') as inputFile:\n",
    "    lines = inputFile.readlines()"
   ]
  },
  {
   "cell_type": "markdown",
   "metadata": {},
   "source": [
    "##### Common functions"
   ]
  },
  {
   "cell_type": "code",
   "execution_count": 5,
   "metadata": {},
   "outputs": [],
   "source": []
  },
  {
   "cell_type": "markdown",
   "metadata": {},
   "source": [
    "##### Part 1"
   ]
  },
  {
   "cell_type": "code",
   "execution_count": null,
   "metadata": {},
   "outputs": [],
   "source": [
    "def parsePartOne(inputLines):\n",
    "    directions = []\n",
    "    for line in inputLines:\n",
    "        splitLine = line.strip('\\n').split()\n",
    "        directions.append((splitLine[0], int(splitLine[1]), splitLine[2].strip('()')))\n",
    "    return(directions)\n",
    "\n",
    "def partOne(inputLines):\n",
    "    directions = parsePartOne(inputLines)\n",
    "    trench = [(0, 0)]\n",
    "    perimeter = 0\n",
    "\n",
    "    for direction in directions:\n",
    "        perimeter += direction[1]\n",
    "        if direction[0] == 'U':\n",
    "            trench.append((trench[-1][0] - direction[1], trench[-1][1]))\n",
    "        elif direction[0] == 'D':\n",
    "            trench.append((trench[-1][0] + direction[1], trench[-1][1]))\n",
    "        elif direction[0] == 'L':\n",
    "            trench.append((trench[-1][0], trench[-1][1] - direction[1]))\n",
    "        elif direction[0] == 'R':\n",
    "            trench.append((trench[-1][0], trench[-1][1] + direction[1]))\n",
    "    \n",
    "    # shoelace formula:\n",
    "    area = 0\n",
    "    for i in range(len(trench) - 1):\n",
    "        area += trench[i][0] * trench[i + 1][1] - trench[i][1] * trench[i + 1][0]\n",
    "    area = abs(area)\n",
    "\n",
    "    return(int((perimeter + area)/2 + 1))\n",
    "\n",
    "\n",
    "print(\"Example input: \" + str(partOne(linesEx)))\n",
    "print(\"Real input: \" + str(partOne(lines)))"
   ]
  },
  {
   "cell_type": "markdown",
   "metadata": {},
   "source": [
    "##### Part 2"
   ]
  },
  {
   "cell_type": "code",
   "execution_count": null,
   "metadata": {},
   "outputs": [],
   "source": [
    "def parsePartTwo(inputLines):\n",
    "    directions = []\n",
    "    for line in inputLines:\n",
    "        splitLine = line.strip('\\n').split()\n",
    "        directions.append((int(splitLine[2][-2]), int(splitLine[2][2:7], 16)))\n",
    "    return(directions)\n",
    "\n",
    "def partTwo(inputLines):\n",
    "    directions = parsePartTwo(inputLines)\n",
    "    trench = [(0, 0)]\n",
    "    perimeter = 0\n",
    "    \n",
    "    for direction in directions:\n",
    "        perimeter += direction[1]\n",
    "        if direction[0] == 3:\n",
    "            trench.append((trench[-1][0] - direction[1], trench[-1][1]))\n",
    "        elif direction[0] == 1:\n",
    "            trench.append((trench[-1][0] + direction[1], trench[-1][1]))\n",
    "        elif direction[0] == 2:\n",
    "            trench.append((trench[-1][0], trench[-1][1] - direction[1]))\n",
    "        elif direction[0] == 0:\n",
    "            trench.append((trench[-1][0], trench[-1][1] + direction[1]))\n",
    "    \n",
    "    # shoelace formula:\n",
    "    area = 0\n",
    "    for i in range(len(trench) - 1):\n",
    "        area += trench[i][0] * trench[i + 1][1] - trench[i][1] * trench[i + 1][0]\n",
    "    area = abs(area)\n",
    "\n",
    "    return(int((perimeter + area)/2 + 1))\n",
    "\n",
    "print(\"Example input: \" + str(partTwo(linesEx)))\n",
    "print(\"Real input: \" + str(partTwo(lines)))"
   ]
  }
 ],
 "metadata": {
  "kernelspec": {
   "display_name": "Python 3",
   "language": "python",
   "name": "python3"
  },
  "language_info": {
   "codemirror_mode": {
    "name": "ipython",
    "version": 3
   },
   "file_extension": ".py",
   "mimetype": "text/x-python",
   "name": "python",
   "nbconvert_exporter": "python",
   "pygments_lexer": "ipython3",
   "version": "3.12.0"
  }
 },
 "nbformat": 4,
 "nbformat_minor": 2
}
