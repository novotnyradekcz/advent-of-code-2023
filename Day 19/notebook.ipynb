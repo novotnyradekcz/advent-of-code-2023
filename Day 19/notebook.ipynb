{
 "cells": [
  {
   "cell_type": "markdown",
   "metadata": {},
   "source": [
    "# Advent of Code 2023\n",
    "### Day 19: Aplenty"
   ]
  },
  {
   "cell_type": "markdown",
   "metadata": {},
   "source": [
    "##### Importing libraries"
   ]
  },
  {
   "cell_type": "code",
   "execution_count": null,
   "metadata": {},
   "outputs": [],
   "source": []
  },
  {
   "cell_type": "markdown",
   "metadata": {},
   "source": [
    "##### Loading example and input file"
   ]
  },
  {
   "cell_type": "code",
   "execution_count": 1,
   "metadata": {},
   "outputs": [],
   "source": [
    "with open('example.txt') as inputFile:\n",
    "    linesEx = inputFile.readlines()\n",
    "\n",
    "with open('input.txt') as inputFile:\n",
    "    lines = inputFile.readlines()"
   ]
  },
  {
   "cell_type": "markdown",
   "metadata": {},
   "source": [
    "##### Common functions"
   ]
  },
  {
   "cell_type": "code",
   "execution_count": 24,
   "metadata": {},
   "outputs": [],
   "source": [
    "def parseInput(inputLines):\n",
    "    workflows = {}\n",
    "    parts = []\n",
    "    i = 0\n",
    "    while inputLines[i] != '\\n':\n",
    "        name = \"\"\n",
    "        j = 0\n",
    "        while inputLines[i][j] != '{':\n",
    "            name += inputLines[i][j]\n",
    "            j += 1\n",
    "        cases = inputLines[i][j:].strip(\"}{\\n\")\n",
    "        conditions = cases.split(',')\n",
    "        workflow = []\n",
    "        for condition in conditions:\n",
    "            workflow.append(tuple(condition.split(':')))\n",
    "        workflows[name] = workflow\n",
    "        i += 1\n",
    "    i += 1\n",
    "    while i < len(inputLines):\n",
    "        part = inputLines[i].strip(\"}{\\n\")\n",
    "        categories = part.split(',')\n",
    "        part = {}\n",
    "        for category in categories:\n",
    "            part[category[0]] = int(category[2:])\n",
    "        parts.append(part)\n",
    "        i += 1\n",
    "    return(workflows, parts)"
   ]
  },
  {
   "cell_type": "markdown",
   "metadata": {},
   "source": [
    "##### Part 1"
   ]
  },
  {
   "cell_type": "code",
   "execution_count": null,
   "metadata": {},
   "outputs": [],
   "source": [
    "def partOne(inputLines):\n",
    "    workflows, parts = parseInput(inputLines)\n",
    "    # print(workflows)\n",
    "    # print(parts)\n",
    "    totalRating = 0\n",
    "    currentWorkflow = \"in\"\n",
    "    for part in parts:\n",
    "        while currentWorkflow != 'A' and currentWorkflow != 'R':\n",
    "            # print(part, currentWorkflow)\n",
    "            for step in workflows[currentWorkflow]:\n",
    "                if len(step) == 1:\n",
    "                    currentWorkflow = step[0]\n",
    "                    break\n",
    "                elif step[0][1] == '<' and part[step[0][0]] < int(step[0][2:]):\n",
    "                    currentWorkflow = step[1]\n",
    "                    break\n",
    "                elif step[0][1] == '>' and part[step[0][0]] > int(step[0][2:]):\n",
    "                    currentWorkflow = step[1]\n",
    "                    # print(part, currentWorkflow)\n",
    "                    break\n",
    "        if currentWorkflow == 'A':\n",
    "            for value in part.values():\n",
    "                # print(value)\n",
    "                totalRating += value\n",
    "        currentWorkflow = 'in'\n",
    "    return(totalRating)\n",
    "\n",
    "\n",
    "print(\"Example input: \" + str(partOne(linesEx)))\n",
    "print(\"Real input: \" + str(partOne(lines)))"
   ]
  },
  {
   "cell_type": "markdown",
   "metadata": {},
   "source": [
    "##### Part 2"
   ]
  },
  {
   "cell_type": "code",
   "execution_count": null,
   "metadata": {},
   "outputs": [],
   "source": [
    "def partTwo(inputLines):\n",
    "    workflows, x = parseInput(inputLines)\n",
    "    \n",
    "    for x, y in workflows.items():\n",
    "        print(x, y)\n",
    "    # print(parts)\n",
    "    \n",
    "    parts = []\n",
    "    for workflow in workflows.values():\n",
    "        for step in workflow:\n",
    "            # here parse the workflow and crate parts that are just above and just below numbers in workflows\n",
    "\n",
    "    totalPossibilities = 1\n",
    "    currentWorkflow = \"in\"\n",
    "    possibilities = 0\n",
    "    for x in range(1, 4001):                    \n",
    "        while currentWorkflow != 'A' and currentWorkflow != 'R':\n",
    "            # print(part, currentWorkflow)\n",
    "            for step in workflows[currentWorkflow]:\n",
    "                if len(step) == 1:\n",
    "                    currentWorkflow = step[0]\n",
    "                    break\n",
    "                elif step[0][0] != 'x':\n",
    "                    currentWorkflow = step[1]\n",
    "                    break\n",
    "                elif step[0][:2] == 'x<' and x < int(step[0][2:]):\n",
    "                    currentWorkflow = step[1]\n",
    "                    break\n",
    "                elif step[0][:2] == 'x>' and x > int(step[0][2:]):\n",
    "                    currentWorkflow = step[1]\n",
    "                    # print(part, currentWorkflow)\n",
    "                    break\n",
    "        if currentWorkflow == 'A':\n",
    "            possibilities += 1\n",
    "        currentWorkflow = 'in'\n",
    "    totalPossibilities *= possibilities\n",
    "\n",
    "    possibilities = 0\n",
    "    for m in range(1, 4001):                    \n",
    "        while currentWorkflow != 'A' and currentWorkflow != 'R':\n",
    "            # print(part, currentWorkflow)\n",
    "            for step in workflows[currentWorkflow]:\n",
    "                if len(step) == 1:\n",
    "                    currentWorkflow = step[0]\n",
    "                    break\n",
    "                elif step[0][0] != 'm':\n",
    "                    currentWorkflow = step[1]\n",
    "                    break\n",
    "                elif step[0][:2] == 'm<' and m < int(step[0][2:]):\n",
    "                    currentWorkflow = step[1]\n",
    "                    break\n",
    "                elif step[0][:2] == 'm>' and m > int(step[0][2:]):\n",
    "                    currentWorkflow = step[1]\n",
    "                    # print(part, currentWorkflow)\n",
    "                    break\n",
    "        if currentWorkflow == 'A':\n",
    "            possibilities += 1\n",
    "        currentWorkflow = 'in'\n",
    "    totalPossibilities *= possibilities\n",
    "\n",
    "    possibilities = 0\n",
    "    for a in range(1, 4001):                    \n",
    "        while currentWorkflow != 'A' and currentWorkflow != 'R':\n",
    "            # print(part, currentWorkflow)\n",
    "            for step in workflows[currentWorkflow]:\n",
    "                if len(step) == 1:\n",
    "                    currentWorkflow = step[0]\n",
    "                    break\n",
    "                elif step[0][0] != 'a':\n",
    "                    currentWorkflow = step[1]\n",
    "                    break\n",
    "                elif step[0][:2] == 'a<' and a < int(step[0][2:]):\n",
    "                    currentWorkflow = step[1]\n",
    "                    break\n",
    "                elif step[0][:2] == 'a>' and a > int(step[0][2:]):\n",
    "                    currentWorkflow = step[1]\n",
    "                    # print(part, currentWorkflow)\n",
    "                    break\n",
    "        if currentWorkflow == 'A':\n",
    "            possibilities += 1\n",
    "        currentWorkflow = 'in'\n",
    "    totalPossibilities *= possibilities\n",
    "\n",
    "    possibilities = 0\n",
    "    for s in range(1, 4001):                    \n",
    "        while currentWorkflow != 'A' and currentWorkflow != 'R':\n",
    "            # print(part, currentWorkflow)\n",
    "            for step in workflows[currentWorkflow]:\n",
    "                if len(step) == 1:\n",
    "                    currentWorkflow = step[0]\n",
    "                    break\n",
    "                elif step[0][0] != 's':\n",
    "                    currentWorkflow = step[1]\n",
    "                    break\n",
    "                elif step[0][:2] == 's<' and s < int(step[0][2:]):\n",
    "                    currentWorkflow = step[1]\n",
    "                    break\n",
    "                elif step[0][:2] == 's>' and s > int(step[0][2:]):\n",
    "                    currentWorkflow = step[1]\n",
    "                    # print(part, currentWorkflow)\n",
    "                    break\n",
    "        if currentWorkflow == 'A':\n",
    "            possibilities += 1\n",
    "        currentWorkflow = 'in'\n",
    "    totalPossibilities *= possibilities\n",
    "\n",
    "    return(totalPossibilities)\n",
    "\n",
    "print(\"Example input: \" + str(partTwo(linesEx)))\n",
    "# print(\"Real input: \" + str(partTwo(lines)))"
   ]
  },
  {
   "cell_type": "markdown",
   "metadata": {},
   "source": [
    "119379200000000 too low"
   ]
  }
 ],
 "metadata": {
  "kernelspec": {
   "display_name": "Python 3",
   "language": "python",
   "name": "python3"
  },
  "language_info": {
   "codemirror_mode": {
    "name": "ipython",
    "version": 3
   },
   "file_extension": ".py",
   "mimetype": "text/x-python",
   "name": "python",
   "nbconvert_exporter": "python",
   "pygments_lexer": "ipython3",
   "version": "3.9.6"
  }
 },
 "nbformat": 4,
 "nbformat_minor": 2
}
