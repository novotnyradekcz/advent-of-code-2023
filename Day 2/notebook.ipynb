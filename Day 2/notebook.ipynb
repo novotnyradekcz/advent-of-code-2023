{
 "cells": [
  {
   "cell_type": "markdown",
   "metadata": {},
   "source": [
    "# Advent of Code 2023\n",
    "### Day 2: Cube Conundrum"
   ]
  },
  {
   "cell_type": "markdown",
   "metadata": {},
   "source": [
    "##### Importing libraries"
   ]
  },
  {
   "cell_type": "code",
   "execution_count": null,
   "metadata": {},
   "outputs": [],
   "source": []
  },
  {
   "cell_type": "markdown",
   "metadata": {},
   "source": [
    "##### Loading example and input file"
   ]
  },
  {
   "cell_type": "code",
   "execution_count": 8,
   "metadata": {},
   "outputs": [],
   "source": [
    "with open('example1.txt') as inputFile:\n",
    "    linesEx1 = inputFile.readlines()\n",
    "\n",
    "with open('example2.txt') as inputFile:\n",
    "    linesEx2 = inputFile.readlines()\n",
    "\n",
    "with open('input.txt') as inputFile:\n",
    "    lines = inputFile.readlines()"
   ]
  },
  {
   "cell_type": "markdown",
   "metadata": {},
   "source": [
    "##### Part 1"
   ]
  },
  {
   "cell_type": "code",
   "execution_count": 7,
   "metadata": {},
   "outputs": [
    {
     "name": "stdout",
     "output_type": "stream",
     "text": [
      "Example input: 8\n",
      "Real input: 2348\n"
     ]
    }
   ],
   "source": [
    "def part_one(inputLines):\n",
    "    cubes = [12, 13, 14]    # R, G, B\n",
    "    sum = 0\n",
    "    \n",
    "    for line in inputLines:\n",
    "        splitLine = line.split(' ')\n",
    "        gameNumber = int(splitLine[1][:-1])\n",
    "        if line[6] == ':':\n",
    "            strippedLine = line[8:]\n",
    "        elif line[7] == ':':\n",
    "            strippedLine = line[9:]\n",
    "        else:\n",
    "            strippedLine = line[10:]\n",
    "        splitLine = strippedLine.split(\"; \")\n",
    "        possible = True\n",
    "        for section in splitLine:\n",
    "            cubes = section.split(\", \")\n",
    "#            print(cubes)\n",
    "            for cube in cubes:\n",
    "                values = cube.split(' ')\n",
    "                if int(values[0]) > 12 and values[1][0] == 'r':\n",
    "                    possible = False\n",
    "                    break\n",
    "                if int(values[0]) > 13 and values[1][0] == 'g':\n",
    "                    possible = False\n",
    "                    break\n",
    "                if int(values[0]) > 14 and values[1][0] == 'b':\n",
    "                    possible = False\n",
    "                    break\n",
    "            if not possible:\n",
    "                break\n",
    "        if possible:\n",
    "            sum += gameNumber\n",
    "    return sum\n",
    "\n",
    "print(\"Example input: \" + str(part_one(linesEx1)))\n",
    "print(\"Real input: \" + str(part_one(lines)))"
   ]
  },
  {
   "cell_type": "markdown",
   "metadata": {},
   "source": [
    "##### Part 2"
   ]
  },
  {
   "cell_type": "code",
   "execution_count": 14,
   "metadata": {},
   "outputs": [
    {
     "name": "stdout",
     "output_type": "stream",
     "text": [
      "48\n",
      "12\n",
      "1560\n",
      "630\n",
      "36\n",
      "Example input: 2286\n",
      "80\n",
      "252\n",
      "171\n",
      "2156\n",
      "360\n",
      "32\n",
      "570\n",
      "1485\n",
      "36\n",
      "420\n",
      "200\n",
      "585\n",
      "1330\n",
      "266\n",
      "7200\n",
      "36\n",
      "1404\n",
      "1782\n",
      "714\n",
      "450\n",
      "14\n",
      "1008\n",
      "234\n",
      "392\n",
      "64\n",
      "594\n",
      "168\n",
      "208\n",
      "1080\n",
      "270\n",
      "384\n",
      "1520\n",
      "378\n",
      "1872\n",
      "1680\n",
      "351\n",
      "1232\n",
      "270\n",
      "192\n",
      "36\n",
      "1071\n",
      "18\n",
      "1008\n",
      "480\n",
      "10\n",
      "560\n",
      "270\n",
      "396\n",
      "1088\n",
      "440\n",
      "20\n",
      "792\n",
      "55\n",
      "176\n",
      "2128\n",
      "144\n",
      "30\n",
      "270\n",
      "720\n",
      "3168\n",
      "80\n",
      "72\n",
      "700\n",
      "480\n",
      "234\n",
      "969\n",
      "140\n",
      "1680\n",
      "195\n",
      "1144\n",
      "480\n",
      "32\n",
      "660\n",
      "5776\n",
      "2223\n",
      "675\n",
      "3136\n",
      "210\n",
      "2261\n",
      "480\n",
      "57\n",
      "486\n",
      "1120\n",
      "468\n",
      "250\n",
      "81\n",
      "168\n",
      "663\n",
      "1050\n",
      "153\n",
      "630\n",
      "819\n",
      "96\n",
      "1224\n",
      "392\n",
      "126\n",
      "88\n",
      "576\n",
      "1530\n",
      "84\n",
      "Real input: 76008\n"
     ]
    }
   ],
   "source": [
    "def part_two(inputLines):\n",
    "    cubes = [12, 13, 14]    # R, G, B\n",
    "    sum = 0\n",
    "    \n",
    "    for line in inputLines:\n",
    "        splitLine = line.split(' ')\n",
    "        gameNumber = int(splitLine[1][:-1])\n",
    "        if line[6] == ':':\n",
    "            strippedLine = line[8:]\n",
    "        elif line[7] == ':':\n",
    "            strippedLine = line[9:]\n",
    "        else:\n",
    "            strippedLine = line[10:]\n",
    "        rounds = strippedLine.split(\"; \")\n",
    "        cubeCount = [0, 0, 0]    # R, G, B\n",
    "        for round in rounds:\n",
    "            cubes = round.split(\", \")\n",
    "#            print(cubes)\n",
    "            for cube in cubes:\n",
    "                values = cube.split(' ')\n",
    "                if values[1][0] == 'r':\n",
    "                    if int(values[0]) > cubeCount[0]:\n",
    "                        cubeCount[0] = int(values[0])\n",
    "                elif values[1][0] == 'g':\n",
    "                    if int(values[0]) > cubeCount[1]:\n",
    "                        cubeCount[1] = int(values[0])\n",
    "                elif values[1][0] == 'b':\n",
    "                    if int(values[0]) > cubeCount[2]:\n",
    "                        cubeCount[2] = int(values[0])\n",
    "        power = cubeCount[0] * cubeCount[1] * cubeCount[2]\n",
    "        print(power)\n",
    "        sum += power\n",
    "    return sum\n",
    "\n",
    "print(\"Example input: \" + str(part_two(linesEx2)))\n",
    "print(\"Real input: \" + str(part_two(lines)))"
   ]
  }
 ],
 "metadata": {
  "kernelspec": {
   "display_name": "Python 3",
   "language": "python",
   "name": "python3"
  },
  "language_info": {
   "codemirror_mode": {
    "name": "ipython",
    "version": 3
   },
   "file_extension": ".py",
   "mimetype": "text/x-python",
   "name": "python",
   "nbconvert_exporter": "python",
   "pygments_lexer": "ipython3",
   "version": "3.9.6"
  }
 },
 "nbformat": 4,
 "nbformat_minor": 2
}
