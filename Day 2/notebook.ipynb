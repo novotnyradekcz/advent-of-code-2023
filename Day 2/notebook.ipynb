{
 "cells": [
  {
   "cell_type": "markdown",
   "metadata": {},
   "source": [
    "# Advent of Code 2023\n",
    "### Day 2: Cube Conundrum"
   ]
  },
  {
   "cell_type": "markdown",
   "metadata": {},
   "source": [
    "##### Importing libraries"
   ]
  },
  {
   "cell_type": "code",
   "execution_count": null,
   "metadata": {},
   "outputs": [],
   "source": []
  },
  {
   "cell_type": "markdown",
   "metadata": {},
   "source": [
    "##### Loading example and input file"
   ]
  },
  {
   "cell_type": "code",
   "execution_count": 15,
   "metadata": {},
   "outputs": [],
   "source": [
    "with open('example1.txt') as inputFile:\n",
    "    linesEx1 = inputFile.readlines()\n",
    "\n",
    "with open('example2.txt') as inputFile:\n",
    "    linesEx2 = inputFile.readlines()\n",
    "\n",
    "with open('input.txt') as inputFile:\n",
    "    lines = inputFile.readlines()"
   ]
  },
  {
   "cell_type": "markdown",
   "metadata": {},
   "source": [
    "##### Part 1"
   ]
  },
  {
   "cell_type": "code",
   "execution_count": null,
   "metadata": {},
   "outputs": [],
   "source": [
    "def part_one(inputLines):\n",
    "    cubes = [12, 13, 14]    # R, G, B\n",
    "    sum = 0\n",
    "    \n",
    "    for line in inputLines:\n",
    "        splitLine = line.split(' ')\n",
    "        gameNumber = int(splitLine[1][:-1])\n",
    "        if line[6] == ':':\n",
    "            strippedLine = line[8:]\n",
    "        elif line[7] == ':':\n",
    "            strippedLine = line[9:]\n",
    "        else:\n",
    "            strippedLine = line[10:]\n",
    "        rounds = strippedLine.split(\"; \")\n",
    "        possible = True\n",
    "        for round in rounds:\n",
    "            cubes = round.split(\", \")\n",
    "            for cube in cubes:\n",
    "                values = cube.split(' ')\n",
    "                if int(values[0]) > 12 and values[1][0] == 'r':\n",
    "                    possible = False\n",
    "                    break\n",
    "                if int(values[0]) > 13 and values[1][0] == 'g':\n",
    "                    possible = False\n",
    "                    break\n",
    "                if int(values[0]) > 14 and values[1][0] == 'b':\n",
    "                    possible = False\n",
    "                    break\n",
    "            if not possible:\n",
    "                break\n",
    "        if possible:\n",
    "            sum += gameNumber\n",
    "    return sum\n",
    "\n",
    "print(\"Example input: \" + str(part_one(linesEx1)))\n",
    "print(\"Real input: \" + str(part_one(lines)))"
   ]
  },
  {
   "cell_type": "markdown",
   "metadata": {},
   "source": [
    "##### Part 2"
   ]
  },
  {
   "cell_type": "code",
   "execution_count": null,
   "metadata": {},
   "outputs": [],
   "source": [
    "def part_two(inputLines):\n",
    "    cubes = [12, 13, 14]    # R, G, B\n",
    "    sum = 0\n",
    "    \n",
    "    for line in inputLines:\n",
    "        if line[6] == ':':\n",
    "            strippedLine = line[8:]\n",
    "        elif line[7] == ':':\n",
    "            strippedLine = line[9:]\n",
    "        else:\n",
    "            strippedLine = line[10:]\n",
    "        rounds = strippedLine.split(\"; \")\n",
    "        cubeCount = [0, 0, 0]    # R, G, B\n",
    "        for round in rounds:\n",
    "            cubes = round.split(\", \")\n",
    "            for cube in cubes:\n",
    "                values = cube.split(' ')\n",
    "                if values[1][0] == 'r':\n",
    "                    if int(values[0]) > cubeCount[0]:\n",
    "                        cubeCount[0] = int(values[0])\n",
    "                elif values[1][0] == 'g':\n",
    "                    if int(values[0]) > cubeCount[1]:\n",
    "                        cubeCount[1] = int(values[0])\n",
    "                elif values[1][0] == 'b':\n",
    "                    if int(values[0]) > cubeCount[2]:\n",
    "                        cubeCount[2] = int(values[0])\n",
    "        sum += cubeCount[0] * cubeCount[1] * cubeCount[2]\n",
    "    return sum\n",
    "\n",
    "print(\"Example input: \" + str(part_two(linesEx2)))\n",
    "print(\"Real input: \" + str(part_two(lines)))"
   ]
  }
 ],
 "metadata": {
  "kernelspec": {
   "display_name": "Python 3",
   "language": "python",
   "name": "python3"
  },
  "language_info": {
   "codemirror_mode": {
    "name": "ipython",
    "version": 3
   },
   "file_extension": ".py",
   "mimetype": "text/x-python",
   "name": "python",
   "nbconvert_exporter": "python",
   "pygments_lexer": "ipython3",
   "version": "3.9.6"
  }
 },
 "nbformat": 4,
 "nbformat_minor": 2
}
