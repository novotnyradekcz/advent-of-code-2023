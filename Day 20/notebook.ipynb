{
 "cells": [
  {
   "cell_type": "markdown",
   "metadata": {},
   "source": [
    "# Advent of Code 2023\n",
    "### Day 20: Pulse Propagation"
   ]
  },
  {
   "cell_type": "markdown",
   "metadata": {},
   "source": [
    "##### Importing libraries"
   ]
  },
  {
   "cell_type": "code",
   "execution_count": null,
   "metadata": {},
   "outputs": [],
   "source": []
  },
  {
   "cell_type": "markdown",
   "metadata": {},
   "source": [
    "##### Loading example and input file"
   ]
  },
  {
   "cell_type": "code",
   "execution_count": 1,
   "metadata": {},
   "outputs": [],
   "source": [
    "with open('example.txt') as inputFile:\n",
    "    linesEx = inputFile.readlines()\n",
    "\n",
    "with open('input.txt') as inputFile:\n",
    "    lines = inputFile.readlines()"
   ]
  },
  {
   "cell_type": "markdown",
   "metadata": {},
   "source": [
    "##### Common functions"
   ]
  },
  {
   "cell_type": "code",
   "execution_count": 8,
   "metadata": {},
   "outputs": [],
   "source": [
    "def parseInput(inputLines):\n",
    "\tmodules = {}\n",
    "\tfor line in inputLines:\n",
    "\t\tsplitLine = line.strip('\\n').split()\n",
    "\t\tdestinations = []\n",
    "\t\tfor i in range(2, len(splitLine)):\n",
    "\t\t\tdestinations.append(splitLine[i].strip(','))\n",
    "\t\tif splitLine[0] == \"broadcaster\":\n",
    "\t\t\tmodules[splitLine[0]] = (\"broadcaster\", destinations)\n",
    "\t\telse:\n",
    "\t\t\tmodules[splitLine[0][1:]] = (splitLine[0][0], destinations)\n",
    "\treturn(modules)"
   ]
  },
  {
   "cell_type": "markdown",
   "metadata": {},
   "source": [
    "##### Part 1"
   ]
  },
  {
   "cell_type": "code",
   "execution_count": 9,
   "metadata": {},
   "outputs": [
    {
     "name": "stdout",
     "output_type": "stream",
     "text": [
      "{'broadcaster': ('broadcaster', ['a']), 'a': ('%', ['inv', 'con']), 'inv': ('&', ['b']), 'b': ('%', ['con']), 'con': ('&', ['output'])}\n",
      "Example input: 42\n",
      "{'ds': ('&', ['qg', 'db', 'bm', 'ft', 'jk', 'qs', 'dz']), 'cj': ('%', ['pg']), 'xz': ('%', ['sx', 'ds']), 'kd': ('%', ['cs', 'jg']), 'jk': ('%', ['ds', 'qs']), 'nx': ('%', ['qr']), 'dt': ('&', ['bx', 'mg', 'qb', 'cl', 'zb']), 'vx': ('%', ['bd']), 'pz': ('%', ['rv']), 'ft': ('%', ['dz']), 'gz': ('%', ['dt', 'dx']), 'ng': ('%', ['ft', 'ds']), 'sh': ('%', ['kn', 'cs']), 'kn': ('%', ['jc', 'cs']), 'qg': ('%', ['ls']), 'sb': ('%', ['lp', 'cs']), 'dz': ('%', ['fg']), 'dc': ('%', ['bd', 'nx']), 'cs': ('&', ['lp', 'jg', 'sb', 'jc', 'dr']), 'tr': ('%', ['bx', 'dt']), 'mg': ('%', ['fj', 'dt']), 'sx': ('%', ['ds', 'lm']), 'bx': ('%', ['qb']), 'dx': ('%', ['bv', 'dt']), 'jc': ('%', ['zf']), 'broadcaster': ('broadcaster', ['sb', 'dc', 'jk', 'mg']), 'bd': ('&', ['nx', 'pz', 'dc', 'qr', 'cj', 'df', 'tn']), 'll': ('%', ['zb', 'dt']), 'fg': ('%', ['ds', 'xz']), 'jg': ('%', ['bj']), 'bm': ('&', ['vr']), 'ls': ('%', ['ds', 'ng']), 'qs': ('%', ['db']), 'bv': ('%', ['bs', 'dt']), 'gq': ('%', ['bd', 'vx']), 'db': ('%', ['qg']), 'zf': ('%', ['lh', 'cs']), 'pg': ('%', ['df', 'bd']), 'bs': ('%', ['dt']), 'lm': ('%', ['ds']), 'df': ('%', ['rs']), 'cl': ('&', ['vr']), 'qm': ('%', ['dt', 'll']), 'vr': ('&', ['rx']), 'fp': ('%', ['bk', 'cs']), 'qr': ('%', ['pz']), 'mp': ('%', ['cj', 'bd']), 'tn': ('&', ['vr']), 'bj': ('%', ['cs', 'fp']), 'rs': ('%', ['gq', 'bd']), 'qb': ('%', ['qm']), 'zb': ('%', ['gz']), 'bk': ('%', ['cs']), 'dr': ('&', ['vr']), 'lp': ('%', ['sh']), 'fj': ('%', ['dt', 'tr']), 'rv': ('%', ['bd', 'mp']), 'lh': ('%', ['cs', 'kd'])}\n",
      "Real input: 42\n"
     ]
    }
   ],
   "source": [
    "def partOne(inputLines):\n",
    "    modules = parseInput(inputLines)\n",
    "    print(modules)\n",
    "    states = {}\n",
    "    # add state for each input (initially low pulse)\n",
    "    return(42)\n",
    "\n",
    "\n",
    "print(\"Example input: \" + str(partOne(linesEx)))\n",
    "print(\"Real input: \" + str(partOne(lines)))"
   ]
  },
  {
   "cell_type": "markdown",
   "metadata": {},
   "source": [
    "##### Part 2"
   ]
  },
  {
   "cell_type": "code",
   "execution_count": null,
   "metadata": {},
   "outputs": [],
   "source": [
    "def partTwo(inputLines):\n",
    "    \n",
    "    return(42)\n",
    "\n",
    "print(\"Example input: \" + str(partTwo(linesEx)))\n",
    "print(\"Real input: \" + str(partTwo(lines)))"
   ]
  }
 ],
 "metadata": {
  "kernelspec": {
   "display_name": "Python 3",
   "language": "python",
   "name": "python3"
  },
  "language_info": {
   "codemirror_mode": {
    "name": "ipython",
    "version": 3
   },
   "file_extension": ".py",
   "mimetype": "text/x-python",
   "name": "python",
   "nbconvert_exporter": "python",
   "pygments_lexer": "ipython3",
   "version": "3.9.6"
  }
 },
 "nbformat": 4,
 "nbformat_minor": 2
}
