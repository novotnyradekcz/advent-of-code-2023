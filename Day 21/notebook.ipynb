{
 "cells": [
  {
   "cell_type": "markdown",
   "metadata": {},
   "source": [
    "# Advent of Code 2023\n",
    "### Day 21: Step Counter"
   ]
  },
  {
   "cell_type": "markdown",
   "metadata": {},
   "source": [
    "##### Importing libraries"
   ]
  },
  {
   "cell_type": "code",
   "execution_count": null,
   "metadata": {},
   "outputs": [],
   "source": []
  },
  {
   "cell_type": "markdown",
   "metadata": {},
   "source": [
    "##### Loading example and input file"
   ]
  },
  {
   "cell_type": "code",
   "execution_count": 94,
   "metadata": {},
   "outputs": [],
   "source": [
    "with open('example.txt') as inputFile:\n",
    "    linesEx = inputFile.readlines()\n",
    "\n",
    "with open('input.txt') as inputFile:\n",
    "    lines = inputFile.readlines()"
   ]
  },
  {
   "cell_type": "markdown",
   "metadata": {},
   "source": [
    "##### Common functions"
   ]
  },
  {
   "cell_type": "code",
   "execution_count": 95,
   "metadata": {},
   "outputs": [],
   "source": [
    "def parseInput(inputLines):\n",
    "    gardenMap = []\n",
    "    for line in inputLines:\n",
    "        gardenMap.append(line.strip('\\n'))\n",
    "\n",
    "    currentStep = set()\n",
    "    for i in range(len(gardenMap)):\n",
    "        for j in range(len(gardenMap[i])):\n",
    "            if gardenMap[i][j] == 'S':\n",
    "                currentStep.add((i, j))\n",
    "    \n",
    "    return(gardenMap, currentStep)\n"
   ]
  },
  {
   "cell_type": "markdown",
   "metadata": {},
   "source": [
    "##### Part 1"
   ]
  },
  {
   "cell_type": "code",
   "execution_count": null,
   "metadata": {},
   "outputs": [],
   "source": [
    "def doStepOne(gardenMap, previousStep):\n",
    "    currentStep = set()\n",
    "    for plot in previousStep:\n",
    "        if plot[1] - 1 >= 0 and gardenMap[plot[0]][plot[1] - 1] != '#':\n",
    "            currentStep.add((plot[0], plot[1] - 1))\n",
    "        if plot[1] + 1 < len(gardenMap[0]) and gardenMap[plot[0]][plot[1] + 1] != '#':\n",
    "            currentStep.add((plot[0], plot[1] + 1))\n",
    "        if plot[0] - 1 >= 0 and gardenMap[plot[0] - 1][plot[1]] != '#':\n",
    "            currentStep.add((plot[0] - 1, plot[1]))\n",
    "        if plot[0] + 1 < len(gardenMap[0]) and gardenMap[plot[0] + 1][plot[1]] != '#':\n",
    "            currentStep.add((plot[0] + 1, plot[1]))\n",
    "    return(currentStep)\n",
    "\n",
    "def partOne(inputLines, desiredSteps):\n",
    "    gardenMap, currentStep = parseInput(inputLines)\n",
    "\n",
    "    for step in range(desiredSteps):\n",
    "        previousStep = currentStep.copy()\n",
    "        currentStep = doStepOne(gardenMap, previousStep)\n",
    "\n",
    "    return(len(currentStep))\n",
    "\n",
    "print(\"Example input: \" + str(partOne(linesEx, 6)))\n",
    "print(\"Real input: \" + str(partOne(lines, 64)))"
   ]
  },
  {
   "cell_type": "markdown",
   "metadata": {},
   "source": [
    "##### Part 2\n",
    "\n",
    "For some reason does not work for example input, but works for my input."
   ]
  },
  {
   "cell_type": "code",
   "execution_count": null,
   "metadata": {},
   "outputs": [],
   "source": [
    "def doStepTwo(gardenMap, previousStep):\n",
    "    currentStep = set()\n",
    "    for plot in previousStep:\n",
    "        if gardenMap[plot[0] % len(gardenMap)][(plot[1] - 1) % len(gardenMap[0])] != '#':\n",
    "            currentStep.add((plot[0], plot[1] - 1))\n",
    "        if gardenMap[plot[0] % len(gardenMap)][(plot[1] + 1) % len(gardenMap[0])] != '#':\n",
    "            currentStep.add((plot[0], plot[1] + 1))\n",
    "        if gardenMap[(plot[0] - 1) % len(gardenMap)][plot[1] % len(gardenMap[0])] != '#':\n",
    "            currentStep.add((plot[0] - 1, plot[1]))\n",
    "        if gardenMap[(plot[0] + 1) % len(gardenMap)][plot[1] % len(gardenMap[0])] != '#':\n",
    "            currentStep.add((plot[0] + 1, plot[1]))\n",
    "    return(currentStep)\n",
    "\n",
    "def mostCommon(someList):\n",
    "    someSet = set(someList)\n",
    "    itemCounts = []\n",
    "    for item in someSet:\n",
    "        itemCounts.append((item, someList.count(item)))\n",
    "    return(max(itemCounts, key= lambda x: x[1])[0])\n",
    "\n",
    "def partTwo(inputLines, desiredSteps):\n",
    "    gardenMap, currentStep = parseInput(inputLines)\n",
    "    \n",
    "    stepSequence = []\n",
    "    diffSequence = []\n",
    "    diffDiffSequence = []\n",
    "    for step in range(1000):    # may need to be adjusted\n",
    "        previousStep = currentStep.copy()\n",
    "        currentStep = doStepTwo(gardenMap, previousStep)\n",
    "        stepSequence.append(len(currentStep))\n",
    "        if len(stepSequence) > 1:\n",
    "            diffSequence.append(stepSequence[-1] - stepSequence[-2])\n",
    "        if len(diffSequence) > 1:\n",
    "            diffDiffSequence.append(diffSequence[-1] - diffSequence[-2])\n",
    "\n",
    "\n",
    "    periodCandidates = []\n",
    "    for i in range(10, len(diffDiffSequence)):\n",
    "        if abs(diffDiffSequence[i]) < 4:    # may need to be adjusted\n",
    "            periodCandidates.append((i, diffDiffSequence[i]))\n",
    "\n",
    "    possiblePeriod = []\n",
    "    for i in range(1,len(periodCandidates)):\n",
    "        possiblePeriod.append(periodCandidates[i][0] - periodCandidates[i - 1][0])\n",
    "\n",
    "    period = mostCommon(possiblePeriod)\n",
    "    fullperiods = (desiredSteps - 1) // period\n",
    "    remainder = (desiredSteps - 1) % period\n",
    "    total = stepSequence[period + remainder]\n",
    "    for i in range(fullperiods - 1):\n",
    "        total += stepSequence[period + remainder] - stepSequence[remainder] + (stepSequence[2 * period + remainder] - 2 * stepSequence[period + remainder] + stepSequence[remainder]) * (i + 1)\n",
    "    return(total)\n",
    "\n",
    "print(\"Real input: \" + str(partTwo(lines, 26501365)))"
   ]
  }
 ],
 "metadata": {
  "kernelspec": {
   "display_name": "Python 3",
   "language": "python",
   "name": "python3"
  },
  "language_info": {
   "codemirror_mode": {
    "name": "ipython",
    "version": 3
   },
   "file_extension": ".py",
   "mimetype": "text/x-python",
   "name": "python",
   "nbconvert_exporter": "python",
   "pygments_lexer": "ipython3",
   "version": "3.12.0"
  }
 },
 "nbformat": 4,
 "nbformat_minor": 2
}
