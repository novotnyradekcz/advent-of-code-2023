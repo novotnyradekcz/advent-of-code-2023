{
 "cells": [
  {
   "cell_type": "markdown",
   "metadata": {},
   "source": [
    "# Advent of Code 2023\n",
    "### Day 21: Step Counter"
   ]
  },
  {
   "cell_type": "markdown",
   "metadata": {},
   "source": [
    "##### Importing libraries"
   ]
  },
  {
   "cell_type": "code",
   "execution_count": null,
   "metadata": {},
   "outputs": [],
   "source": []
  },
  {
   "cell_type": "markdown",
   "metadata": {},
   "source": [
    "##### Loading example and input file"
   ]
  },
  {
   "cell_type": "code",
   "execution_count": 1,
   "metadata": {},
   "outputs": [],
   "source": [
    "with open('example.txt') as inputFile:\n",
    "    linesEx = inputFile.readlines()\n",
    "\n",
    "with open('input.txt') as inputFile:\n",
    "    lines = inputFile.readlines()"
   ]
  },
  {
   "cell_type": "markdown",
   "metadata": {},
   "source": [
    "##### Common functions"
   ]
  },
  {
   "cell_type": "code",
   "execution_count": 8,
   "metadata": {},
   "outputs": [],
   "source": []
  },
  {
   "cell_type": "markdown",
   "metadata": {},
   "source": [
    "##### Part 1"
   ]
  },
  {
   "cell_type": "code",
   "execution_count": null,
   "metadata": {},
   "outputs": [],
   "source": [
    "def partOne(inputLines, desiredSteps):\n",
    "    gardenMap = []\n",
    "    for line in inputLines:\n",
    "        gardenMap.append(line.strip('\\n'))\n",
    "    \n",
    "    print(gardenMap)\n",
    "    previousStep = set()\n",
    "    currentStep = set()\n",
    "    for i in range(len(gardenMap)):\n",
    "        for j in range(len(gardenMap[i])):\n",
    "            if gardenMap[i][j] == 'S':\n",
    "                currentStep.add((i, j))\n",
    "    print(currentStep)\n",
    "    for step in range(desiredSteps):\n",
    "        previousStep = currentStep.copy()\n",
    "        currentStep = set()\n",
    "        for plot in previousStep:\n",
    "            if plot[1] - 1 >= 0 and gardenMap[plot[0]][plot[1] - 1] != '#':\n",
    "                currentStep.add((plot[0], plot[1] - 1))\n",
    "            if plot[1] + 1 < len(gardenMap[0]) and gardenMap[plot[0]][plot[1] + 1] != '#':\n",
    "                currentStep.add((plot[0], plot[1] + 1))\n",
    "            if plot[0] - 1 >= 0 and gardenMap[plot[0] - 1][plot[1]] != '#':\n",
    "                currentStep.add((plot[0] - 1, plot[1]))\n",
    "            if plot[0] + 1 < len(gardenMap[0]) and gardenMap[plot[0] + 1][plot[1]] != '#':\n",
    "                currentStep.add((plot[0] + 1, plot[1]))\n",
    "        # print(currentStep)\n",
    "\n",
    "    return(len(currentStep))\n",
    "\n",
    "print(\"Example input: \" + str(partOne(linesEx, 6)))\n",
    "print(\"Real input: \" + str(partOne(lines, 64)))"
   ]
  },
  {
   "cell_type": "markdown",
   "metadata": {},
   "source": [
    "##### Part 2"
   ]
  },
  {
   "cell_type": "code",
   "execution_count": null,
   "metadata": {},
   "outputs": [],
   "source": [
    "def partTwo(inputLines, desiredSteps):\n",
    "    gardenMap = []\n",
    "    for line in inputLines:\n",
    "        gardenMap.append(line.strip('\\n'))\n",
    "    \n",
    "    print(gardenMap)\n",
    "    previousStep = set()\n",
    "    currentStep = set()\n",
    "    for i in range(len(gardenMap)):\n",
    "        for j in range(len(gardenMap[i])):\n",
    "            if gardenMap[i][j] == 'S':\n",
    "                currentStep.add((i, j))\n",
    "    print(currentStep)\n",
    "    for step in range(desiredSteps):\n",
    "        previousStep = currentStep.copy()\n",
    "        currentStep = set()\n",
    "        for plot in previousStep:\n",
    "            if gardenMap[plot[0] % len(gardenMap)][(plot[1] - 1) % len(gardenMap[0])] != '#':\n",
    "                currentStep.add((plot[0], plot[1] - 1))\n",
    "            if gardenMap[plot[0] % len(gardenMap)][(plot[1] + 1) % len(gardenMap[0])] != '#':\n",
    "                currentStep.add((plot[0], plot[1] + 1))\n",
    "            if gardenMap[(plot[0] - 1) % len(gardenMap)][plot[1] % len(gardenMap[0])] != '#':\n",
    "                currentStep.add((plot[0] - 1, plot[1]))\n",
    "            if gardenMap[(plot[0] + 1) % len(gardenMap)][plot[1] % len(gardenMap[0])] != '#':\n",
    "                currentStep.add((plot[0] + 1, plot[1]))\n",
    "        # print(currentStep)\n",
    "\n",
    "    return(len(currentStep))\n",
    "\n",
    "print(\"Example input: \" + str(partTwo(linesEx, 6)))\n",
    "print(\"Example input: \" + str(partTwo(linesEx, 10)))\n",
    "print(\"Example input: \" + str(partTwo(linesEx, 50)))\n",
    "print(\"Example input: \" + str(partTwo(linesEx, 100)))\n",
    "print(\"Example input: \" + str(partTwo(linesEx, 500)))\n",
    "print(\"Example input: \" + str(partTwo(linesEx, 1000)))\n",
    "print(\"Example input: \" + str(partTwo(linesEx, 5000)))\n",
    "# print(\"Real input: \" + str(partTwo(lines, 26501365)))"
   ]
  }
 ],
 "metadata": {
  "kernelspec": {
   "display_name": "Python 3",
   "language": "python",
   "name": "python3"
  },
  "language_info": {
   "codemirror_mode": {
    "name": "ipython",
    "version": 3
   },
   "file_extension": ".py",
   "mimetype": "text/x-python",
   "name": "python",
   "nbconvert_exporter": "python",
   "pygments_lexer": "ipython3",
   "version": "3.9.6"
  }
 },
 "nbformat": 4,
 "nbformat_minor": 2
}
