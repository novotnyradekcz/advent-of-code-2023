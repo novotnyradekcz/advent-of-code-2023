{
 "cells": [
  {
   "cell_type": "markdown",
   "metadata": {},
   "source": [
    "# Advent of Code 2023\n",
    "### Day 23: A Long Walk"
   ]
  },
  {
   "cell_type": "markdown",
   "metadata": {},
   "source": [
    "##### Importing libraries"
   ]
  },
  {
   "cell_type": "code",
   "execution_count": null,
   "metadata": {},
   "outputs": [],
   "source": []
  },
  {
   "cell_type": "markdown",
   "metadata": {},
   "source": [
    "##### Loading example and input file"
   ]
  },
  {
   "cell_type": "code",
   "execution_count": 2,
   "metadata": {},
   "outputs": [],
   "source": [
    "with open('example.txt') as inputFile:\n",
    "    linesEx = inputFile.readlines()\n",
    "\n",
    "with open('input.txt') as inputFile:\n",
    "    lines = inputFile.readlines()"
   ]
  },
  {
   "cell_type": "markdown",
   "metadata": {},
   "source": [
    "##### Common functions"
   ]
  },
  {
   "cell_type": "code",
   "execution_count": 3,
   "metadata": {},
   "outputs": [],
   "source": [
    "def parseInput(inputLines):\n",
    "\thikingMap = []\n",
    "\tfor line in inputLines:\n",
    "\t\thikingMap.append(line.strip('\\n'))\n",
    "\treturn(hikingMap)"
   ]
  },
  {
   "cell_type": "markdown",
   "metadata": {},
   "source": [
    "##### Part 1"
   ]
  },
  {
   "cell_type": "code",
   "execution_count": 5,
   "metadata": {},
   "outputs": [
    {
     "ename": "SyntaxError",
     "evalue": "invalid syntax (2274661000.py, line 1)",
     "output_type": "error",
     "traceback": [
      "\u001b[1;36m  Cell \u001b[1;32mIn[5], line 1\u001b[1;36m\u001b[0m\n\u001b[1;33m    def nextTile(visitedTiles, currentTile)\u001b[0m\n\u001b[1;37m                                           ^\u001b[0m\n\u001b[1;31mSyntaxError\u001b[0m\u001b[1;31m:\u001b[0m invalid syntax\n"
     ]
    }
   ],
   "source": [
    "def nextTile(hikingMap, visitedTiles, currentTiles):\n",
    "    if currentTile[0] == len(hikingMap) - 1:\n",
    "        return(len(visitedTiles))\n",
    "    while currentTile[0] != len(hikingMap) - 1:\n",
    "        nextTiles = []\n",
    "        if (currentTile[0] + 1, currentTile[1]) not in visitedTiles and hikingMap[currentTile[0] + 1][currentTile[1]] != '#':\n",
    "            nextTiles.append((currentTile[0] + 1, currentTile[1]))\n",
    "        if (currentTile[0] - 1, currentTile[1]) not in visitedTiles and hikingMap[currentTile[0] - 1][currentTile[1]] != '#':\n",
    "            nextTiles.append((currentTile[0] - 1, currentTile[1]))\n",
    "        if (currentTile[0], currentTile[1] + 1) not in visitedTiles and hikingMap[currentTile[0]][currentTile[1] + 1] != '#':\n",
    "            nextTiles.append((currentTile[0], currentTile[1] + 1))\n",
    "        if (currentTile[0], currentTile[1] - 1) not in visitedTiles and hikingMap[currentTile[0]][currentTile[1] - 1] != '#':\n",
    "            nextTiles.append((currentTile[0], currentTile[1] - 1))\n",
    "        if len(nextTiles) == 1:\n",
    "            visitedTiles.append(currentTile)\n",
    "            currentTile = (nextTiles[0][0], nextTiles[0][1])\n",
    "\n",
    "def partOne(inputLines):\n",
    "    hikingMap = parseInput(inputLines)\n",
    "    print(hikingMap)\n",
    "    \n",
    "    for i in range(len(hikingMap[0])):\n",
    "        if hikingMap[0][i] == '.':\n",
    "            currentTile = (hikingMap[0], hikingMap[1])\n",
    "\n",
    "    unvisitedTiles = []\n",
    "    for i in range(len(hikingMap)):\n",
    "        for j in range(len(hikingMap[i])):\n",
    "            if hikingMap[i][j] != '#':\n",
    "                unvisitedTiles.append((i, j))\n",
    "\n",
    "    visitedTiles = [currentTile]\n",
    "    currentTiles = [(currentTile[0] + 1, currentTile[1])]\n",
    "    while currentTile[0] != len(hikingMap) - 1:\n",
    "        nextTiles = []\n",
    "        if (currentTile[0] + 1, currentTile[1]) not in visitedTiles and hikingMap[currentTile[0] + 1][currentTile[1]] != '#':\n",
    "            nextTiles.append((currentTile[0] + 1, currentTile[1]))\n",
    "        if (currentTile[0] - 1, currentTile[1]) not in visitedTiles and hikingMap[currentTile[0] - 1][currentTile[1]] != '#':\n",
    "            nextTiles.append((currentTile[0] - 1, currentTile[1]))\n",
    "        if (currentTile[0], currentTile[1] + 1) not in visitedTiles and hikingMap[currentTile[0]][currentTile[1] + 1] != '#':\n",
    "            nextTiles.append((currentTile[0], currentTile[1] + 1))\n",
    "        if (currentTile[0], currentTile[1] - 1) not in visitedTiles and hikingMap[currentTile[0]][currentTile[1] - 1] != '#':\n",
    "            nextTiles.append((currentTile[0], currentTile[1] - 1))\n",
    "        if len(nextTiles) == 1:\n",
    "            visitedTiles.append(currentTile)\n",
    "            currentTile = (nextTiles[0][0], nextTiles[0][1])\n",
    "    return(42)\n",
    "\n",
    "\n",
    "print(\"Example input: \" + str(partOne(linesEx)))\n",
    "# print(\"Real input: \" + str(partOne(lines)))"
   ]
  },
  {
   "cell_type": "markdown",
   "metadata": {},
   "source": [
    "##### Part 2"
   ]
  },
  {
   "cell_type": "code",
   "execution_count": null,
   "metadata": {},
   "outputs": [],
   "source": [
    "def partTwo(inputLines):\n",
    "    \n",
    "    return(42)\n",
    "\n",
    "print(\"Example input: \" + str(partTwo(linesEx)))\n",
    "print(\"Real input: \" + str(partTwo(lines)))"
   ]
  }
 ],
 "metadata": {
  "kernelspec": {
   "display_name": "Python 3",
   "language": "python",
   "name": "python3"
  },
  "language_info": {
   "codemirror_mode": {
    "name": "ipython",
    "version": 3
   },
   "file_extension": ".py",
   "mimetype": "text/x-python",
   "name": "python",
   "nbconvert_exporter": "python",
   "pygments_lexer": "ipython3",
   "version": "3.9.6"
  }
 },
 "nbformat": 4,
 "nbformat_minor": 2
}
