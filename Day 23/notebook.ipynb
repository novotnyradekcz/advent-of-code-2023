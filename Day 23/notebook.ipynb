{
 "cells": [
  {
   "cell_type": "markdown",
   "metadata": {},
   "source": [
    "# Advent of Code 2023\n",
    "### Day 23: A Long Walk"
   ]
  },
  {
   "cell_type": "markdown",
   "metadata": {},
   "source": [
    "##### Importing libraries"
   ]
  },
  {
   "cell_type": "code",
   "execution_count": null,
   "metadata": {},
   "outputs": [],
   "source": []
  },
  {
   "cell_type": "markdown",
   "metadata": {},
   "source": [
    "##### Loading example and input file"
   ]
  },
  {
   "cell_type": "code",
   "execution_count": 1,
   "metadata": {},
   "outputs": [],
   "source": [
    "with open('example.txt') as inputFile:\n",
    "    linesEx = inputFile.readlines()\n",
    "\n",
    "with open('input.txt') as inputFile:\n",
    "    lines = inputFile.readlines()"
   ]
  },
  {
   "cell_type": "markdown",
   "metadata": {},
   "source": [
    "##### Common functions"
   ]
  },
  {
   "cell_type": "code",
   "execution_count": 2,
   "metadata": {},
   "outputs": [],
   "source": [
    "def parseInput(inputLines):\n",
    "\thikingMap = []\n",
    "\tfor line in inputLines:\n",
    "\t\thikingMap.append(line.strip('\\n'))\n",
    "\treturn(hikingMap)"
   ]
  },
  {
   "cell_type": "markdown",
   "metadata": {},
   "source": [
    "##### Part 1"
   ]
  },
  {
   "cell_type": "code",
   "execution_count": null,
   "metadata": {},
   "outputs": [],
   "source": [
    "def findNextTile(hikingMap, validTiles, visitedTiles, currentTile):\n",
    "    if currentTile[0] == len(hikingMap) - 1:\n",
    "        return(len(visitedTiles))\n",
    "    nextTiles = [currentTile]\n",
    "    while len(nextTiles) == 1:\n",
    "        visitedTiles.add(currentTile)\n",
    "        nextTiles = []\n",
    "        if hikingMap[currentTile[0]][currentTile[1]] == '>':\n",
    "            if (currentTile[0], currentTile[1] + 1) not in visitedTiles:\n",
    "                nextTiles = [(currentTile[0], currentTile[1] + 1)]\n",
    "            else:\n",
    "                nextTiles = []\n",
    "        elif hikingMap[currentTile[0]][currentTile[1]] == '<':\n",
    "            if (currentTile[0], currentTile[1] - 1) not in visitedTiles:\n",
    "                nextTiles = [(currentTile[0], currentTile[1] - 1)]\n",
    "            else:\n",
    "                nextTiles = []\n",
    "        elif hikingMap[currentTile[0]][currentTile[1]] == 'v':\n",
    "            if (currentTile[0] + 1, currentTile[1]) not in visitedTiles:\n",
    "                nextTiles = [(currentTile[0] + 1, currentTile[1])]\n",
    "            else:\n",
    "                nextTiles = []\n",
    "        elif hikingMap[currentTile[0]][currentTile[1]] == '^':\n",
    "            if (currentTile[0] - 1, currentTile[1]) not in visitedTiles:\n",
    "                nextTiles = [(currentTile[0] - 1, currentTile[1])]\n",
    "            else:\n",
    "                nextTiles = []\n",
    "        else:\n",
    "            if (currentTile[0] + 1, currentTile[1]) not in visitedTiles and (currentTile[0] + 1, currentTile[1]) in validTiles and hikingMap[currentTile[0] + 1][currentTile[1]] != '^':\n",
    "                nextTiles.append((currentTile[0] + 1, currentTile[1]))\n",
    "            if (currentTile[0] - 1, currentTile[1]) not in visitedTiles and (currentTile[0] - 1, currentTile[1]) in validTiles and hikingMap[currentTile[0] - 1][currentTile[1]] != 'v':\n",
    "                nextTiles.append((currentTile[0] - 1, currentTile[1]))\n",
    "            if (currentTile[0], currentTile[1] + 1) not in visitedTiles and (currentTile[0], currentTile[1] + 1) in validTiles and hikingMap[currentTile[0]][currentTile[1] + 1] != '<':\n",
    "                nextTiles.append((currentTile[0], currentTile[1] + 1))\n",
    "            if (currentTile[0], currentTile[1] - 1) not in visitedTiles and (currentTile[0], currentTile[1] - 1) in validTiles and hikingMap[currentTile[0]][currentTile[1] - 1] != '>':\n",
    "                nextTiles.append((currentTile[0], currentTile[1] - 1))\n",
    "        if nextTiles == []:\n",
    "            return(0)\n",
    "        currentTile = (nextTiles[0][0], nextTiles[0][1])\n",
    "        if currentTile[0] == len(hikingMap) - 1:\n",
    "            return(len(visitedTiles))\n",
    "    if len(nextTiles) == 2:\n",
    "        return(max(findNextTile(hikingMap, validTiles, visitedTiles.copy(), nextTiles[0]), findNextTile(hikingMap, validTiles, visitedTiles.copy(), nextTiles[1])))\n",
    "    else:\n",
    "        return(max([findNextTile(hikingMap, validTiles, visitedTiles.copy(), nextTiles[0]), findNextTile(hikingMap, validTiles, visitedTiles.copy(), nextTiles[1]), findNextTile(hikingMap, validTiles, visitedTiles.copy(), nextTiles[2])]))\n",
    "\n",
    "def partOne(inputLines):\n",
    "    hikingMap = parseInput(inputLines)\n",
    "    \n",
    "    for i in range(len(hikingMap[0])):\n",
    "        if hikingMap[0][i] == '.':\n",
    "            currentTile = (0, i)\n",
    "\n",
    "    validTiles = set()\n",
    "    for i in range(len(hikingMap)):\n",
    "        for j in range(len(hikingMap[i])):\n",
    "            if hikingMap[i][j] != '#':\n",
    "                validTiles.add((i, j))\n",
    "\n",
    "    visitedTiles = set([currentTile])\n",
    "    currentTile = (currentTile[0] + 1, currentTile[1])\n",
    "    return(findNextTile(hikingMap, validTiles, visitedTiles, currentTile))\n",
    "\n",
    "\n",
    "print(\"Example input: \" + str(partOne(linesEx)))\n",
    "print(\"Real input: \" + str(partOne(lines)))"
   ]
  },
  {
   "cell_type": "markdown",
   "metadata": {},
   "source": [
    "##### Part 2"
   ]
  },
  {
   "cell_type": "code",
   "execution_count": null,
   "metadata": {},
   "outputs": [],
   "source": [
    "def findNextTileTwo(hikingMap, validTiles, visitedTiles, currentTile):\n",
    "    if currentTile[0] == len(hikingMap) - 1:\n",
    "        # print(\"exit tile\")\n",
    "        return(len(visitedTiles))\n",
    "    nextTiles = [currentTile]\n",
    "    while len(nextTiles) == 1:\n",
    "        visitedTiles.add(currentTile)\n",
    "        nextTiles = []\n",
    "        if (currentTile[0] + 1, currentTile[1]) not in visitedTiles and (currentTile[0] + 1, currentTile[1]) in validTiles:\n",
    "            nextTiles.append((currentTile[0] + 1, currentTile[1]))\n",
    "        if (currentTile[0] - 1, currentTile[1]) not in visitedTiles and (currentTile[0] - 1, currentTile[1]) in validTiles:\n",
    "            nextTiles.append((currentTile[0] - 1, currentTile[1]))\n",
    "        if (currentTile[0], currentTile[1] + 1) not in visitedTiles and (currentTile[0], currentTile[1] + 1) in validTiles:\n",
    "            nextTiles.append((currentTile[0], currentTile[1] + 1))\n",
    "        if (currentTile[0], currentTile[1] - 1) not in visitedTiles and (currentTile[0], currentTile[1] - 1) in validTiles:\n",
    "            nextTiles.append((currentTile[0], currentTile[1] - 1))\n",
    "        if nextTiles == []:\n",
    "            # print(\"dead end\")\n",
    "            return(0)\n",
    "        currentTile = (nextTiles[0][0], nextTiles[0][1])\n",
    "        if currentTile[0] == len(hikingMap) - 1:\n",
    "            # print(\"exit tile\")\n",
    "            return(len(visitedTiles))\n",
    "    if len(nextTiles) == 2:\n",
    "        # print(\"2-junction\")\n",
    "        return(max(findNextTileTwo(hikingMap, validTiles, visitedTiles.copy(), nextTiles[0]), findNextTileTwo(hikingMap, validTiles, visitedTiles.copy(), nextTiles[1])))\n",
    "    else:\n",
    "        # print(\"3-junction\")\n",
    "        return(max([findNextTileTwo(hikingMap, validTiles, visitedTiles.copy(), nextTiles[0]), findNextTileTwo(hikingMap, validTiles, visitedTiles.copy(), nextTiles[1]), findNextTileTwo(hikingMap, validTiles, visitedTiles.copy(), nextTiles[2])]))\n",
    "\n",
    "def partTwo(inputLines):\n",
    "    hikingMap = parseInput(inputLines)\n",
    "    print(hikingMap)\n",
    "    \n",
    "    for i in range(len(hikingMap[0])):\n",
    "        if hikingMap[0][i] == '.':\n",
    "            currentTile = (0, i)\n",
    "\n",
    "    validTiles = set()\n",
    "    for i in range(len(hikingMap)):\n",
    "        for j in range(len(hikingMap[i])):\n",
    "            if hikingMap[i][j] != '#':\n",
    "                validTiles.add((i, j))\n",
    "\n",
    "    visitedTiles = set([currentTile])\n",
    "    currentTile = (currentTile[0] + 1, currentTile[1])\n",
    "    return(findNextTileTwo(hikingMap, validTiles, visitedTiles, currentTile))\n",
    "\n",
    "print(\"Example input: \" + str(partTwo(linesEx)))\n",
    "print(\"Real input: \" + str(partTwo(lines)))"
   ]
  }
 ],
 "metadata": {
  "kernelspec": {
   "display_name": "Python 3",
   "language": "python",
   "name": "python3"
  },
  "language_info": {
   "codemirror_mode": {
    "name": "ipython",
    "version": 3
   },
   "file_extension": ".py",
   "mimetype": "text/x-python",
   "name": "python",
   "nbconvert_exporter": "python",
   "pygments_lexer": "ipython3",
   "version": "3.9.6"
  }
 },
 "nbformat": 4,
 "nbformat_minor": 2
}
