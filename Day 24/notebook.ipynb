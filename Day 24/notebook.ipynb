{
 "cells": [
  {
   "cell_type": "markdown",
   "metadata": {},
   "source": [
    "# Advent of Code 2023\n",
    "### Day 24: Never Tell Me The Odds"
   ]
  },
  {
   "cell_type": "markdown",
   "metadata": {},
   "source": [
    "##### Importing libraries"
   ]
  },
  {
   "cell_type": "code",
   "execution_count": null,
   "metadata": {},
   "outputs": [],
   "source": []
  },
  {
   "cell_type": "markdown",
   "metadata": {},
   "source": [
    "##### Loading example and input file"
   ]
  },
  {
   "cell_type": "code",
   "execution_count": 1,
   "metadata": {},
   "outputs": [],
   "source": [
    "with open('example.txt') as inputFile:\n",
    "    linesEx = inputFile.readlines()\n",
    "\n",
    "with open('input.txt') as inputFile:\n",
    "    lines = inputFile.readlines()"
   ]
  },
  {
   "cell_type": "markdown",
   "metadata": {},
   "source": [
    "##### Common functions"
   ]
  },
  {
   "cell_type": "code",
   "execution_count": 3,
   "metadata": {},
   "outputs": [],
   "source": [
    "def parseInput(inputLines):\n",
    "\tpositions = []\n",
    "\tvelocities = []\n",
    "\tfor line in inputLines:\n",
    "\t\tsplitLine = line.strip('\\n').split()\n",
    "\t\tposition = (int(splitLine[0].strip(',')), int(splitLine[1].strip(',')), int(splitLine[2]))\n",
    "\t\tvelocity = (int(splitLine[4].strip(',')), int(splitLine[5].strip(',')), int(splitLine[6]))\n",
    "\t\tpositions.append(position)\n",
    "\t\tvelocities.append(velocity)\n",
    "\treturn(positions, velocities)"
   ]
  },
  {
   "cell_type": "markdown",
   "metadata": {},
   "source": [
    "##### Part 1"
   ]
  },
  {
   "cell_type": "code",
   "execution_count": null,
   "metadata": {},
   "outputs": [],
   "source": [
    "def getIntersection(x11,y11,x12,y12,x21,y21,x22,y22):\n",
    "        detX = (x11 * y12 - y11 * x12) * (x21 - x22) - (x11 - x12) * (x21 * y22 - y21 * x22)\n",
    "        detY = (x11 * y12 - y11 * x12) * (y21 - y22) - (y11 - y12) * (x21 * y22 - y21 * x22)\n",
    "        det = (x11 - x12) * (y21 - y22) - (y11 - y12) * (x21 - x22)\n",
    "        \n",
    "        epsilon = 0.00001\n",
    "        if abs(det) < epsilon:\n",
    "              return (-1, -1)\n",
    "\n",
    "        intersectionX = detX / det\n",
    "        intersectionY = detY / det\n",
    "        return (intersectionX, intersectionY)\n",
    "\n",
    "def partOne(inputLines, boundaries):\n",
    "    positions, velocities = parseInput(inputLines)\n",
    "    print(positions)\n",
    "    print(velocities)\n",
    "\n",
    "    intersections = []\n",
    "    for i in range(len(positions)):\n",
    "        for j in range(i):\n",
    "            intersection = getIntersection(positions[i][0], positions[i][1], positions[i][0] + velocities[i][0], positions[i][1] + velocities[i][1], positions[j][0], positions[j][1], positions[j][0] + velocities[j][0], positions[j][1] + velocities[j][1])\n",
    "            if intersection[0] >= boundaries[0] and intersection[0] <= boundaries[1] and intersection[1] >= boundaries[0] and intersection[1] <= boundaries[1]:\n",
    "                onTrajectory = True\n",
    "                if (velocities[i][0] > 0 and intersection[0] < positions[i][0]) or (velocities[i][1] > 0 and intersection[1] < positions[i][1]) or (velocities[i][0] < 0 and intersection[0] > positions[i][0]) or (velocities[i][1] < 0 and intersection[1] > positions[i][1]) or (velocities[i][0] == 0 and intersection[0] != positions[i][0]) or (velocities[i][1] == 0 and intersection[1] != positions[i][1]):\n",
    "                    # print(positions[i], positions[j], intersection)\n",
    "                    onTrajectory = False\n",
    "                if (velocities[j][0] > 0 and intersection[0] < positions[j][0]) or (velocities[j][1] > 0 and intersection[1] < positions[j][1]) or (velocities[j][0] < 0 and intersection[0] > positions[j][0]) or (velocities[j][1] < 0 and intersection[1] > positions[j][1]) or (velocities[j][0] == 0 and intersection[0] != positions[j][0]) or (velocities[j][1] == 0 and intersection[1] != positions[j][1]):\n",
    "                     onTrajectory = False\n",
    "                if onTrajectory:\n",
    "                    print(positions[i], positions[j], intersection)\n",
    "                    intersections.append(intersection)\n",
    "    print(intersections)\n",
    "    return(len(intersections))\n",
    "\n",
    "print(\"Example input: \" + str(partOne(linesEx, (7.0, 27.0))))\n",
    "print(\"Real input: \" + str(partOne(lines, (200000000000000.0, 400000000000000.0))))"
   ]
  },
  {
   "cell_type": "markdown",
   "metadata": {},
   "source": [
    "##### Part 2"
   ]
  },
  {
   "cell_type": "code",
   "execution_count": 24,
   "metadata": {},
   "outputs": [
    {
     "name": "stdout",
     "output_type": "stream",
     "text": [
      "Example input: 42\n",
      "Real input: 42\n"
     ]
    }
   ],
   "source": [
    "def partTwo(inputLines):\n",
    "    positions, velocities = parseInput(inputLines)\n",
    "\n",
    "    \n",
    "\n",
    "    return(42)\n",
    "\n",
    "print(\"Example input: \" + str(partTwo(linesEx)))\n",
    "# print(\"Real input: \" + str(partTwo(lines)))"
   ]
  }
 ],
 "metadata": {
  "kernelspec": {
   "display_name": "Python 3",
   "language": "python",
   "name": "python3"
  },
  "language_info": {
   "codemirror_mode": {
    "name": "ipython",
    "version": 3
   },
   "file_extension": ".py",
   "mimetype": "text/x-python",
   "name": "python",
   "nbconvert_exporter": "python",
   "pygments_lexer": "ipython3",
   "version": "3.9.6"
  }
 },
 "nbformat": 4,
 "nbformat_minor": 2
}
