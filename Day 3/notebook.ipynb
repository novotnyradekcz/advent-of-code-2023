{
 "cells": [
  {
   "cell_type": "markdown",
   "metadata": {},
   "source": [
    "# Advent of Code 2023\n",
    "### Day 2: Cube Conundrum"
   ]
  },
  {
   "cell_type": "markdown",
   "metadata": {},
   "source": [
    "##### Importing libraries"
   ]
  },
  {
   "cell_type": "code",
   "execution_count": null,
   "metadata": {},
   "outputs": [],
   "source": []
  },
  {
   "cell_type": "markdown",
   "metadata": {},
   "source": [
    "##### Loading example and input file"
   ]
  },
  {
   "cell_type": "code",
   "execution_count": 12,
   "metadata": {},
   "outputs": [],
   "source": [
    "with open('example1.txt') as inputFile:\n",
    "    linesEx1 = inputFile.readlines()\n",
    "\n",
    "with open('example2.txt') as inputFile:\n",
    "    linesEx2 = inputFile.readlines()\n",
    "\n",
    "with open('input.txt') as inputFile:\n",
    "    lines = inputFile.readlines()"
   ]
  },
  {
   "cell_type": "markdown",
   "metadata": {},
   "source": [
    "##### Part 1"
   ]
  },
  {
   "cell_type": "code",
   "execution_count": null,
   "metadata": {},
   "outputs": [],
   "source": [
    "def part_one(inputLines):\n",
    "    grid = []\n",
    "    for line in inputLines:\n",
    "        grid.append(line.strip('\\n'))\n",
    "\n",
    "    numbers = []\n",
    "    symbols = []\n",
    "    for i in range(len(grid)):\n",
    "        for j in range(len(grid[i])):\n",
    "            if grid[i][j].isdigit():\n",
    "                numbers.append([i, j])\n",
    "            if not grid[i][j].isdigit() and grid[i][j] != '.':\n",
    "                symbols.append([i, j])\n",
    "\n",
    "    sum = 0\n",
    "    while numbers != []:\n",
    "        currentNumber = []\n",
    "        currentNumber.append(numbers.pop(0))\n",
    "        while [currentNumber[-1][0], currentNumber[-1][1] + 1] in numbers:\n",
    "            currentNumber.append(numbers.pop(0))\n",
    "        valid = False\n",
    "        for digit in currentNumber:\n",
    "            if [digit[0], digit[1] + 1] in symbols or [digit[0], digit[1] - 1] in symbols or [digit[0] + 1, digit[1]] in symbols or [digit[0] - 1, digit[1]] in symbols or [digit[0] + 1, digit[1] + 1] in symbols or [digit[0] + 1, digit[1] - 1] in symbols or [digit[0] - 1, digit[1] + 1] in symbols or [digit[0] - 1, digit[1] - 1] in symbols:\n",
    "                valid = True\n",
    "        if valid:\n",
    "            number = \"\"\n",
    "            for digit in currentNumber:\n",
    "                number += grid[digit[0]][digit[1]]\n",
    "            sum += int(number)\n",
    "    return(sum)\n",
    "\n",
    "print(\"Example input: \" + str(part_one(linesEx1)))\n",
    "print(\"Real input: \" + str(part_one(lines)))"
   ]
  },
  {
   "cell_type": "markdown",
   "metadata": {},
   "source": [
    "##### Part 2"
   ]
  },
  {
   "cell_type": "code",
   "execution_count": null,
   "metadata": {},
   "outputs": [],
   "source": [
    "def neighbours(x, y):\n",
    "    result = False\n",
    "    if abs(x[0] - y[0]) <= 1 and abs(x[1] - y[1]) <= 1:\n",
    "        result = True\n",
    "    return(result)\n",
    "\n",
    "def getNumber(digit, grid):\n",
    "    number = grid[digit[0]][digit[1]]\n",
    "    i = 1\n",
    "    while digit[1] + i < len(grid[digit[0]]) and grid[digit[0]][digit[1] + i].isdigit():\n",
    "        number += grid[digit[0]][digit[1] + i]\n",
    "        i += 1\n",
    "    i = -1\n",
    "    while digit[1] + i >= 0 and grid[digit[0]][digit[1] + i].isdigit():\n",
    "        number = grid[digit[0]][digit[1] + i] + number\n",
    "        i -= 1\n",
    "    return(int(number))\n",
    "\n",
    "def part_two(inputLines):\n",
    "    grid = []\n",
    "    for line in inputLines:\n",
    "        grid.append(line.strip('\\n'))\n",
    "\n",
    "    numbers = []\n",
    "    gears = []\n",
    "    for i in range(len(grid)):\n",
    "        for j in range(len(grid[i])):\n",
    "            if grid[i][j].isdigit():\n",
    "                numbers.append([i, j])\n",
    "            if grid[i][j] == '*':\n",
    "                gears.append([i, j])\n",
    "    \n",
    "    sum = 0\n",
    "    while gears != []:\n",
    "        currentGear = gears.pop(0)\n",
    "        currentNumbers = []\n",
    "        for number in numbers:\n",
    "            if neighbours(currentGear, number):\n",
    "                currentNumbers.append(number)\n",
    "        if len(currentNumbers) < 2:\n",
    "            continue\n",
    "        \n",
    "        while len(currentNumbers) > 2:\n",
    "            if currentNumbers[0][0] == currentNumbers[1][0] or currentNumbers[0][0] == currentNumbers[2][0]:\n",
    "                currentNumbers.pop(0)\n",
    "            elif currentNumbers[1][0] == currentNumbers[2][0]:\n",
    "                currentNumbers.pop(1)\n",
    "        if neighbours(currentNumbers[0], currentNumbers[1]):\n",
    "            continue\n",
    "        \n",
    "        actualNumbers = []\n",
    "        for number in currentNumbers:\n",
    "            actualNumbers.append(getNumber(number, grid))\n",
    "        sum += actualNumbers[0] * actualNumbers[1]\n",
    "\n",
    "    return(sum)\n",
    "\n",
    "print(\"Example input: \" + str(part_two(linesEx2)))\n",
    "print(\"Real input: \" + str(part_two(lines)))"
   ]
  }
 ],
 "metadata": {
  "kernelspec": {
   "display_name": "Python 3",
   "language": "python",
   "name": "python3"
  },
  "language_info": {
   "codemirror_mode": {
    "name": "ipython",
    "version": 3
   },
   "file_extension": ".py",
   "mimetype": "text/x-python",
   "name": "python",
   "nbconvert_exporter": "python",
   "pygments_lexer": "ipython3",
   "version": "3.9.6"
  }
 },
 "nbformat": 4,
 "nbformat_minor": 2
}
