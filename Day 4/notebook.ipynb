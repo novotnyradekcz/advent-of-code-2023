{
 "cells": [
  {
   "cell_type": "markdown",
   "metadata": {},
   "source": [
    "# Advent of Code 2023\n",
    "### Day 4: Scratchcards"
   ]
  },
  {
   "cell_type": "markdown",
   "metadata": {},
   "source": [
    "##### Importing libraries"
   ]
  },
  {
   "cell_type": "code",
   "execution_count": null,
   "metadata": {},
   "outputs": [],
   "source": []
  },
  {
   "cell_type": "markdown",
   "metadata": {},
   "source": [
    "##### Loading example and input file"
   ]
  },
  {
   "cell_type": "code",
   "execution_count": 18,
   "metadata": {},
   "outputs": [],
   "source": [
    "with open('example1.txt') as inputFile:\n",
    "    linesEx1 = inputFile.readlines()\n",
    "\n",
    "with open('example2.txt') as inputFile:\n",
    "    linesEx2 = inputFile.readlines()\n",
    "\n",
    "with open('input.txt') as inputFile:\n",
    "    lines = inputFile.readlines()"
   ]
  },
  {
   "cell_type": "markdown",
   "metadata": {},
   "source": [
    "##### Part 1"
   ]
  },
  {
   "cell_type": "code",
   "execution_count": null,
   "metadata": {},
   "outputs": [],
   "source": [
    "def part_one(inputLines, length):\n",
    "    winning = []\n",
    "    mine = []\n",
    "\n",
    "    for line in inputLines:\n",
    "        winning.append(line.strip().split()[2:length])\n",
    "        mine.append(line.strip().split()[length+1:])\n",
    "    \n",
    "    values = [0.5 for i in range(len(inputLines))]\n",
    "    for i in range(len(inputLines)):\n",
    "        for win in winning[i]:\n",
    "            if win in mine[i]:\n",
    "                values[i] *= 2\n",
    "\n",
    "    result = 0\n",
    "    for value in values:\n",
    "        if value >= 1:\n",
    "            result += value\n",
    "\n",
    "    return(result)\n",
    "\n",
    "print(\"Example input: \" + str(part_one(linesEx1, 7)))\n",
    "print(\"Real input: \" + str(part_one(lines, 12)))"
   ]
  },
  {
   "cell_type": "markdown",
   "metadata": {},
   "source": [
    "##### Part 2"
   ]
  },
  {
   "cell_type": "code",
   "execution_count": null,
   "metadata": {},
   "outputs": [],
   "source": [
    "def part_two(inputLines, length):\n",
    "    winning = []\n",
    "    mine = []\n",
    "\n",
    "    for line in inputLines:\n",
    "        winning.append(line.strip().split()[2:length])\n",
    "        mine.append(line.strip().split()[length+1:])\n",
    "    \n",
    "    copies = [1 for i in range(len(inputLines))]\n",
    "    for i in range(len(inputLines)):\n",
    "        score = 0\n",
    "        for win in winning[i]:\n",
    "            if win in mine[i]:\n",
    "                score += 1\n",
    "        for j in range(score):\n",
    "            if (i + j + 1 < len(inputLines)):\n",
    "                copies[i + j + 1] += 1 * copies[i]\n",
    "\n",
    "    return(sum(copies))\n",
    "\n",
    "print(\"Example input: \" + str(part_two(linesEx2, 7)))\n",
    "print(\"Real input: \" + str(part_two(lines, 12)))"
   ]
  }
 ],
 "metadata": {
  "kernelspec": {
   "display_name": "Python 3",
   "language": "python",
   "name": "python3"
  },
  "language_info": {
   "codemirror_mode": {
    "name": "ipython",
    "version": 3
   },
   "file_extension": ".py",
   "mimetype": "text/x-python",
   "name": "python",
   "nbconvert_exporter": "python",
   "pygments_lexer": "ipython3",
   "version": "3.9.6"
  }
 },
 "nbformat": 4,
 "nbformat_minor": 2
}
