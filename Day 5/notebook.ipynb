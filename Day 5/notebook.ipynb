{
 "cells": [
  {
   "cell_type": "markdown",
   "metadata": {},
   "source": [
    "# Advent of Code 2023\n",
    "### Day 5: If You Give A Seed A Fertilizer"
   ]
  },
  {
   "cell_type": "markdown",
   "metadata": {},
   "source": [
    "##### Importing libraries"
   ]
  },
  {
   "cell_type": "code",
   "execution_count": null,
   "metadata": {},
   "outputs": [],
   "source": []
  },
  {
   "cell_type": "markdown",
   "metadata": {},
   "source": [
    "##### Loading example and input file"
   ]
  },
  {
   "cell_type": "code",
   "execution_count": 36,
   "metadata": {},
   "outputs": [],
   "source": [
    "with open('example.txt') as inputFile:\n",
    "    linesEx = inputFile.readlines()\n",
    "\n",
    "with open('input.txt') as inputFile:\n",
    "    lines = inputFile.readlines()"
   ]
  },
  {
   "cell_type": "markdown",
   "metadata": {},
   "source": [
    "##### Common functions"
   ]
  },
  {
   "cell_type": "code",
   "execution_count": 37,
   "metadata": {},
   "outputs": [],
   "source": [
    "def createMapper(inputLines, lineStart, mapper, i):\n",
    "    if inputLines[i].startswith(lineStart):\n",
    "        j = i + 1\n",
    "        while j < len(inputLines) and inputLines[j] != '\\n':\n",
    "            dest, source, length = inputLines[j].strip('\\n').split()\n",
    "            mapper.append((int(dest), int(source), int(length)))\n",
    "            j += 1\n",
    "\n",
    "def forwardMap(previous, mapper):\n",
    "    next = previous\n",
    "    for mapping in mapper:\n",
    "        if previous >= mapping[1] and previous < mapping[1] + mapping[2]:\n",
    "            next = mapping[0] + previous - mapping[1]\n",
    "    return(next)\n",
    "\n",
    "def backwardMap(mapper, next):\n",
    "    previous = next\n",
    "    for mapping in mapper:\n",
    "        if next >= mapping[0] and next < mapping[0] + mapping[2]:\n",
    "            previous = mapping[1] + next - mapping[0]\n",
    "    return(previous)"
   ]
  },
  {
   "cell_type": "markdown",
   "metadata": {},
   "source": [
    "##### Part 1"
   ]
  },
  {
   "cell_type": "code",
   "execution_count": null,
   "metadata": {},
   "outputs": [],
   "source": [
    "def part_one(inputLines):\n",
    "    seeds = inputLines[0].strip('\\n').split()[1:]\n",
    "    \n",
    "    seedToSoil = []\n",
    "    soilToFertilizer = []\n",
    "    fertilizerTowater = []\n",
    "    waterToLight = []\n",
    "    lightToTemperature = []\n",
    "    temperatureToHumidity = []\n",
    "    humidityToLocation = []\n",
    "\n",
    "    for i in range(len(inputLines)):\n",
    "        createMapper(inputLines, \"seed-\", seedToSoil, i)\n",
    "        createMapper(inputLines, \"soil\", soilToFertilizer, i)\n",
    "        createMapper(inputLines, \"fert\", fertilizerTowater, i)\n",
    "        createMapper(inputLines, \"water\", waterToLight, i)\n",
    "        createMapper(inputLines, \"light\", lightToTemperature, i)\n",
    "        createMapper(inputLines, \"temp\", temperatureToHumidity, i)\n",
    "        createMapper(inputLines, \"humid\", humidityToLocation, i)\n",
    "\n",
    "    locations = []\n",
    "    for seed in seeds:\n",
    "        soil = forwardMap(int(seed), seedToSoil)\n",
    "        fertilizer = forwardMap(soil, soilToFertilizer)\n",
    "        water = forwardMap(fertilizer, fertilizerTowater)\n",
    "        light = forwardMap(water, waterToLight)\n",
    "        temperature = forwardMap(light, lightToTemperature)\n",
    "        humidity = forwardMap(temperature, temperatureToHumidity)\n",
    "        location = forwardMap(humidity, humidityToLocation)\n",
    "        \n",
    "        locations.append(location)\n",
    "\n",
    "    return(min(locations))\n",
    "\n",
    "print(\"Example input: \" + str(part_one(linesEx)))\n",
    "print(\"Real input: \" + str(part_one(lines)))"
   ]
  },
  {
   "cell_type": "markdown",
   "metadata": {},
   "source": [
    "##### Part 2"
   ]
  },
  {
   "cell_type": "code",
   "execution_count": null,
   "metadata": {},
   "outputs": [],
   "source": [
    "def part_two(inputLines):\n",
    "    seedLines = inputLines[0].strip('\\n').split()[1:]\n",
    "    seeds = []\n",
    "    for seed in seedLines:\n",
    "        seeds.append(int(seed))\n",
    "    \n",
    "    seedToSoil = []\n",
    "    soilToFertilizer = []\n",
    "    fertilizerTowater = []\n",
    "    waterToLight = []\n",
    "    lightToTemperature = []\n",
    "    temperatureToHumidity = []\n",
    "    humidityToLocation = []\n",
    "\n",
    "    for i in range(len(inputLines)):\n",
    "        createMapper(inputLines, \"seed-\", seedToSoil, i)\n",
    "        createMapper(inputLines, \"soil\", soilToFertilizer, i)\n",
    "        createMapper(inputLines, \"fert\", fertilizerTowater, i)\n",
    "        createMapper(inputLines, \"water\", waterToLight, i)\n",
    "        createMapper(inputLines, \"light\", lightToTemperature, i)\n",
    "        createMapper(inputLines, \"temp\", temperatureToHumidity, i)\n",
    "        createMapper(inputLines, \"humid\", humidityToLocation, i)\n",
    "\n",
    "    ceiling = 1000000000  # increase if solution not found\n",
    "    step = 1000000   # just to track progress\n",
    "    for location in range(ceiling):\n",
    "        if (location % step == 0):\n",
    "            print(\"Progress: \" + str(location) + \"/\" + str(ceiling))\n",
    "        \n",
    "        humidity = backwardMap(humidityToLocation, location)\n",
    "        temperature = backwardMap(temperatureToHumidity, humidity)\n",
    "        light = backwardMap(lightToTemperature, temperature)\n",
    "        water = backwardMap(waterToLight, light)\n",
    "        fertilizer = backwardMap(fertilizerTowater, water)\n",
    "        soil = backwardMap(soilToFertilizer, fertilizer)\n",
    "        seed = backwardMap(seedToSoil, soil)\n",
    "        \n",
    "        for i in range(0, len(seeds) - 1, 2):\n",
    "            if seed >= seeds[i] and seed < seeds[i] + seeds[i + 1]:\n",
    "                return(location)\n",
    "    \n",
    "    return(-1)\n",
    "\n",
    "print(\"Example input: \" + str(part_two(linesEx)))\n",
    "print(\"Real input: \" + str(part_two(lines)))"
   ]
  }
 ],
 "metadata": {
  "kernelspec": {
   "display_name": "Python 3",
   "language": "python",
   "name": "python3"
  },
  "language_info": {
   "codemirror_mode": {
    "name": "ipython",
    "version": 3
   },
   "file_extension": ".py",
   "mimetype": "text/x-python",
   "name": "python",
   "nbconvert_exporter": "python",
   "pygments_lexer": "ipython3",
   "version": "3.12.0"
  }
 },
 "nbformat": 4,
 "nbformat_minor": 2
}
