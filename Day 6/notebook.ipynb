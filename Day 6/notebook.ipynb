{
 "cells": [
  {
   "cell_type": "markdown",
   "metadata": {},
   "source": [
    "# Advent of Code 2023\n",
    "### Day 6: Wait For It"
   ]
  },
  {
   "cell_type": "markdown",
   "metadata": {},
   "source": [
    "##### Importing libraries"
   ]
  },
  {
   "cell_type": "code",
   "execution_count": null,
   "metadata": {},
   "outputs": [],
   "source": []
  },
  {
   "cell_type": "markdown",
   "metadata": {},
   "source": [
    "##### Loading example and input file"
   ]
  },
  {
   "cell_type": "code",
   "execution_count": 21,
   "metadata": {},
   "outputs": [],
   "source": [
    "with open('example.txt') as inputFile:\n",
    "    linesEx = inputFile.readlines()\n",
    "\n",
    "with open('input.txt') as inputFile:\n",
    "    lines = inputFile.readlines()"
   ]
  },
  {
   "cell_type": "markdown",
   "metadata": {},
   "source": [
    "##### Common functions"
   ]
  },
  {
   "cell_type": "code",
   "execution_count": 22,
   "metadata": {},
   "outputs": [],
   "source": [
    "def distance(timeHeld, timeTotal):\n",
    "\treturn(timeHeld * (timeTotal - timeHeld))"
   ]
  },
  {
   "cell_type": "markdown",
   "metadata": {},
   "source": [
    "##### Part 1"
   ]
  },
  {
   "cell_type": "code",
   "execution_count": null,
   "metadata": {},
   "outputs": [],
   "source": [
    "def part_one(inputLines):\n",
    "    times = inputLines[0].strip('\\n').split()[1:]\n",
    "    distances = inputLines[1].strip('\\n').split()[1:]\n",
    "    \n",
    "    total = 1\n",
    "    for i in range(len(times)):\n",
    "        ways = 0\n",
    "        j = 0\n",
    "        while distance(j, int(times[i])) <= int(distances[i]):\n",
    "            j += 1\n",
    "        while distance(j, int(times[i])) > int(distances[i]):\n",
    "            ways += 1\n",
    "            j += 1\n",
    "        total *= ways\n",
    "    \n",
    "    return(total)\n",
    "\n",
    "print(\"Example input: \" + str(part_one(linesEx)))\n",
    "print(\"Real input: \" + str(part_one(lines)))"
   ]
  },
  {
   "cell_type": "markdown",
   "metadata": {},
   "source": [
    "##### Part 2"
   ]
  },
  {
   "cell_type": "code",
   "execution_count": null,
   "metadata": {},
   "outputs": [],
   "source": [
    "def part_two(inputLines):\n",
    "    time = \"\"\n",
    "    for c in inputLines[0]:\n",
    "        if c.isdigit():\n",
    "            time += str(c)\n",
    "    time = int(time)\n",
    "    dist = \"\"\n",
    "    for c in inputLines[1]:\n",
    "        if c.isdigit():\n",
    "            dist += str(c)\n",
    "    dist = int(dist)\n",
    "    \n",
    "    ways = 0\n",
    "    j = 0\n",
    "    while distance(j, time) <= dist:\n",
    "        j += 1\n",
    "    while distance(j, time) > dist:\n",
    "        ways += 1\n",
    "        j += 1\n",
    "    \n",
    "    return(ways)\n",
    "\n",
    "print(\"Example input: \" + str(part_two(linesEx)))\n",
    "print(\"Real input: \" + str(part_two(lines)))"
   ]
  }
 ],
 "metadata": {
  "kernelspec": {
   "display_name": "Python 3",
   "language": "python",
   "name": "python3"
  },
  "language_info": {
   "codemirror_mode": {
    "name": "ipython",
    "version": 3
   },
   "file_extension": ".py",
   "mimetype": "text/x-python",
   "name": "python",
   "nbconvert_exporter": "python",
   "pygments_lexer": "ipython3",
   "version": "3.9.6"
  }
 },
 "nbformat": 4,
 "nbformat_minor": 2
}
