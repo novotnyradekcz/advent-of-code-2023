{
 "cells": [
  {
   "cell_type": "markdown",
   "metadata": {},
   "source": [
    "# Advent of Code 2023\n",
    "### Day 8: Haunted Wasteland"
   ]
  },
  {
   "cell_type": "markdown",
   "metadata": {},
   "source": [
    "##### Importing libraries"
   ]
  },
  {
   "cell_type": "code",
   "execution_count": null,
   "metadata": {},
   "outputs": [],
   "source": []
  },
  {
   "cell_type": "markdown",
   "metadata": {},
   "source": [
    "##### Loading example and input file"
   ]
  },
  {
   "cell_type": "code",
   "execution_count": 3,
   "metadata": {},
   "outputs": [],
   "source": [
    "with open('example.txt') as inputFile:\n",
    "    linesEx = inputFile.readlines()\n",
    "\n",
    "with open('input.txt') as inputFile:\n",
    "    lines = inputFile.readlines()"
   ]
  },
  {
   "cell_type": "markdown",
   "metadata": {},
   "source": [
    "##### Common functions"
   ]
  },
  {
   "cell_type": "code",
   "execution_count": null,
   "metadata": {},
   "outputs": [],
   "source": []
  },
  {
   "cell_type": "markdown",
   "metadata": {},
   "source": [
    "##### Part 1"
   ]
  },
  {
   "cell_type": "code",
   "execution_count": null,
   "metadata": {},
   "outputs": [],
   "source": [
    "def sortingKey(hand):\n",
    "\ttransformed = \"\"\n",
    "\tfor card in hand[0]:\n",
    "\t\tif card == 'A':\n",
    "\t\t\ttransformed += \"14\"\n",
    "\t\telif card == 'K':\n",
    "\t\t\ttransformed += \"13\"\n",
    "\t\telif card == 'Q':\n",
    "\t\t\ttransformed += \"12\"\n",
    "\t\telif card == 'J':\n",
    "\t\t\ttransformed += \"11\"\n",
    "\t\telif card == 'T':\n",
    "\t\t\ttransformed += \"10\"\n",
    "\t\telse:\n",
    "\t\t\ttransformed += \"0\" + card\n",
    "\treturn(int(transformed))\n",
    "\n",
    "def part_one(inputLines):\n",
    "    hands = []\n",
    "    for line in inputLines:\n",
    "        hands.append(line.strip('\\n').split())\n",
    "\n",
    "    fiveOfAKind = []\n",
    "    fourOfAKind = []\n",
    "    fullHouse = []\n",
    "    threeOfAKind = []\n",
    "    twoPair = []\n",
    "    onePair = []\n",
    "    highCard = []\n",
    "    \n",
    "    for hand in hands:\n",
    "        cardSet = set(hand[0])\n",
    "        if len(cardSet) == 1:\n",
    "            fiveOfAKind.append(hand)\n",
    "        elif len(cardSet) == 2:\n",
    "            cardList = list(hand[0])\n",
    "            cardList.sort()\n",
    "            if cardList[0] == cardList[1] and cardList[1] == cardList[2] and cardList[2] == cardList[3]:\n",
    "                fourOfAKind.append(hand)\n",
    "            elif cardList[1] == cardList[2] and cardList[2] == cardList[3] and cardList[3] == cardList[4]:\n",
    "                fourOfAKind.append(hand)\n",
    "            else:\n",
    "                fullHouse.append(hand)\n",
    "        elif len(cardSet) == 3:\n",
    "            cardList = list(hand[0])\n",
    "            cardList.sort()\n",
    "            if cardList[0] == cardList[1] and cardList[1] == cardList[2]:\n",
    "                threeOfAKind.append(hand)\n",
    "            elif cardList[1] == cardList[2] and cardList[2] == cardList[3]:\n",
    "                threeOfAKind.append(hand)\n",
    "            elif cardList[2] == cardList[3] and cardList[3] == cardList[4]:\n",
    "                threeOfAKind.append(hand)\n",
    "            else:\n",
    "                twoPair.append(hand)\n",
    "        elif len(cardSet) == 4:\n",
    "            onePair.append(hand)\n",
    "        else:\n",
    "            highCard.append(hand)\n",
    "    \n",
    "    fiveOfAKind.sort(key=sortingKey)\n",
    "    fourOfAKind.sort(key=sortingKey)\n",
    "    fullHouse.sort(key=sortingKey)\n",
    "    threeOfAKind.sort(key=sortingKey)\n",
    "    twoPair.sort(key=sortingKey)\n",
    "    onePair.sort(key=sortingKey)\n",
    "    highCard.sort(key=sortingKey)\n",
    "    sortedHands = highCard + onePair + twoPair + threeOfAKind + fullHouse + fourOfAKind + fiveOfAKind\n",
    "\n",
    "    winnings = 0\n",
    "    for i in range(len(sortedHands)):\n",
    "        winnings += int(sortedHands[i][1]) * (i + 1)\n",
    "    return(winnings)\n",
    "\n",
    "print(\"Example input: \" + str(part_one(linesEx)))\n",
    "print(\"Real input: \" + str(part_one(lines)))"
   ]
  },
  {
   "cell_type": "markdown",
   "metadata": {},
   "source": [
    "##### Part 2"
   ]
  },
  {
   "cell_type": "code",
   "execution_count": null,
   "metadata": {},
   "outputs": [],
   "source": [
    "def sortingKey(hand):\n",
    "\ttransformed = \"\"\n",
    "\tfor card in hand[0]:\n",
    "\t\tif card == 'A':\n",
    "\t\t\ttransformed += \"14\"\n",
    "\t\telif card == 'K':\n",
    "\t\t\ttransformed += \"13\"\n",
    "\t\telif card == 'Q':\n",
    "\t\t\ttransformed += \"12\"\n",
    "\t\telif card == 'J':\n",
    "\t\t\ttransformed += \"01\"\n",
    "\t\telif card == 'T':\n",
    "\t\t\ttransformed += \"10\"\n",
    "\t\telse:\n",
    "\t\t\ttransformed += \"0\" + card\n",
    "\treturn(int(transformed))\n",
    "\n",
    "def part_two(inputLines):\n",
    "    hands = []\n",
    "    for line in inputLines:\n",
    "        hands.append(line.strip('\\n').split())\n",
    "\n",
    "    fiveOfAKind = []\n",
    "    fourOfAKind = []\n",
    "    fullHouse = []\n",
    "    threeOfAKind = []\n",
    "    twoPair = []\n",
    "    onePair = []\n",
    "    highCard = []\n",
    "    \n",
    "    for hand in hands:\n",
    "        cardList = list(filter(lambda a: a != 'J', hand[0]))\n",
    "        if cardList == []:\n",
    "            cardList = ['A', 'A', 'A', 'A', 'A']\n",
    "        replacement = max(set(cardList), key=cardList.count)\n",
    "        \n",
    "        while len(cardList) < 5:\n",
    "            cardList.append(replacement)\n",
    "        cardList.sort()\n",
    "        cardSet = set(cardList)\n",
    "        \n",
    "        if len(cardSet) == 1:\n",
    "            fiveOfAKind.append(hand)\n",
    "        elif len(cardSet) == 2:\n",
    "            if cardList[0] == cardList[1] and cardList[1] == cardList[2] and cardList[2] == cardList[3]:\n",
    "                fourOfAKind.append(hand)\n",
    "            elif cardList[1] == cardList[2] and cardList[2] == cardList[3] and cardList[3] == cardList[4]:\n",
    "                fourOfAKind.append(hand)\n",
    "            else:\n",
    "                fullHouse.append(hand)\n",
    "        elif len(cardSet) == 3:\n",
    "            if cardList[0] == cardList[1] and cardList[1] == cardList[2]:\n",
    "                threeOfAKind.append(hand)\n",
    "            elif cardList[1] == cardList[2] and cardList[2] == cardList[3]:\n",
    "                threeOfAKind.append(hand)\n",
    "            elif cardList[2] == cardList[3] and cardList[3] == cardList[4]:\n",
    "                threeOfAKind.append(hand)\n",
    "            else:\n",
    "                twoPair.append(hand)\n",
    "        elif len(cardSet) == 4:\n",
    "            onePair.append(hand)\n",
    "        else:\n",
    "            highCard.append(hand)\n",
    "    \n",
    "    fiveOfAKind.sort(key=sortingKey)\n",
    "    fourOfAKind.sort(key=sortingKey)\n",
    "    fullHouse.sort(key=sortingKey)\n",
    "    threeOfAKind.sort(key=sortingKey)\n",
    "    twoPair.sort(key=sortingKey)\n",
    "    onePair.sort(key=sortingKey)\n",
    "    highCard.sort(key=sortingKey)\n",
    "    sortedHands = highCard + onePair + twoPair + threeOfAKind + fullHouse + fourOfAKind + fiveOfAKind\n",
    "    \n",
    "    winnings = 0\n",
    "    for i in range(len(sortedHands)):\n",
    "        winnings += int(sortedHands[i][1]) * (i + 1)\n",
    "    return(winnings)\n",
    "\n",
    "print(\"Example input: \" + str(part_two(linesEx)))\n",
    "print(\"Real input: \" + str(part_two(lines)))"
   ]
  }
 ],
 "metadata": {
  "kernelspec": {
   "display_name": "Python 3",
   "language": "python",
   "name": "python3"
  },
  "language_info": {
   "codemirror_mode": {
    "name": "ipython",
    "version": 3
   },
   "file_extension": ".py",
   "mimetype": "text/x-python",
   "name": "python",
   "nbconvert_exporter": "python",
   "pygments_lexer": "ipython3",
   "version": "3.12.0"
  }
 },
 "nbformat": 4,
 "nbformat_minor": 2
}
