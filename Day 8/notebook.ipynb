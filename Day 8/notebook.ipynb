{
 "cells": [
  {
   "cell_type": "markdown",
   "metadata": {},
   "source": [
    "# Advent of Code 2023\n",
    "### Day 8: Haunted Wasteland"
   ]
  },
  {
   "cell_type": "markdown",
   "metadata": {},
   "source": [
    "##### Importing libraries"
   ]
  },
  {
   "cell_type": "code",
   "execution_count": 34,
   "metadata": {},
   "outputs": [],
   "source": [
    "import math"
   ]
  },
  {
   "cell_type": "markdown",
   "metadata": {},
   "source": [
    "##### Loading example and input file"
   ]
  },
  {
   "cell_type": "code",
   "execution_count": 35,
   "metadata": {},
   "outputs": [],
   "source": [
    "with open('example1.txt') as inputFile:\n",
    "    linesEx1 = inputFile.readlines()\n",
    "\n",
    "with open('example2.txt') as inputFile:\n",
    "    linesEx2 = inputFile.readlines()\n",
    "\n",
    "with open('input.txt') as inputFile:\n",
    "    lines = inputFile.readlines()"
   ]
  },
  {
   "cell_type": "markdown",
   "metadata": {},
   "source": [
    "##### Common functions"
   ]
  },
  {
   "cell_type": "code",
   "execution_count": 36,
   "metadata": {},
   "outputs": [],
   "source": [
    "def parseInput(inputLines):\n",
    "    instructions = inputLines[0].strip('\\n')\n",
    "    splitLines = []\n",
    "    for i in range(2, len(inputLines)):\n",
    "        splitLines.append(inputLines[i].strip('\\n').split())\n",
    "    nodes = []\n",
    "    for line in splitLines:\n",
    "        node = []\n",
    "        node.append(line[0])\n",
    "        node.append(line[2][1:-1])\n",
    "        node.append(line[3][:-1])\n",
    "        nodes.append(node)\n",
    "    return(instructions, nodes)"
   ]
  },
  {
   "cell_type": "markdown",
   "metadata": {},
   "source": [
    "##### Part 1"
   ]
  },
  {
   "cell_type": "code",
   "execution_count": null,
   "metadata": {},
   "outputs": [],
   "source": [
    "def part_one(inputLines):\n",
    "    instructions, nodes = parseInput(inputLines)\n",
    "\n",
    "    currentNode = \"AAA\"\n",
    "    for i in range(1000000000):\n",
    "        for j in range(len(nodes)):\n",
    "            if nodes[j][0] == currentNode:\n",
    "                if instructions[i % len(instructions)] == 'L':\n",
    "                    currentNode = nodes[j][1]\n",
    "                else:\n",
    "                    currentNode = nodes[j][2]\n",
    "                break\n",
    "        if currentNode == \"ZZZ\":\n",
    "            break\n",
    "\n",
    "    return(i + 1)\n",
    "\n",
    "print(\"Example input: \" + str(part_one(linesEx1)))\n",
    "print(\"Real input: \" + str(part_one(lines)))"
   ]
  },
  {
   "cell_type": "markdown",
   "metadata": {},
   "source": [
    "##### Part 2"
   ]
  },
  {
   "cell_type": "code",
   "execution_count": null,
   "metadata": {},
   "outputs": [],
   "source": [
    "def part_two(inputLines):\n",
    "    instructions, nodes = parseInput(inputLines)\n",
    "\n",
    "    currentNodes = []\n",
    "    for node in nodes:\n",
    "        if node[0][-1] == 'A':\n",
    "            currentNodes.append(node[0])\n",
    "    finished = []\n",
    "\n",
    "    for i in range(1000000000000):\n",
    "        for k in range(len(currentNodes)):\n",
    "            for j in range(len(nodes)):\n",
    "                if nodes[j][0] == currentNodes[k]:\n",
    "                    if instructions[i % len(instructions)] == 'L':\n",
    "                        currentNodes[k] = nodes[j][1]\n",
    "                    else:\n",
    "                        currentNodes[k] = nodes[j][2]\n",
    "                    break\n",
    "            \n",
    "            if currentNodes[k][-1] == 'Z':\n",
    "                finished.append(i + 1)\n",
    "\n",
    "        if len(finished) == len(currentNodes):\n",
    "            break\n",
    "    \n",
    "    result = math.lcm(*finished)\n",
    "    return(result)\n",
    "\n",
    "print(\"Example input: \" + str(part_two(linesEx2)))\n",
    "print(\"Real input: \" + str(part_two(lines)))"
   ]
  }
 ],
 "metadata": {
  "kernelspec": {
   "display_name": "Python 3",
   "language": "python",
   "name": "python3"
  },
  "language_info": {
   "codemirror_mode": {
    "name": "ipython",
    "version": 3
   },
   "file_extension": ".py",
   "mimetype": "text/x-python",
   "name": "python",
   "nbconvert_exporter": "python",
   "pygments_lexer": "ipython3",
   "version": "3.12.0"
  }
 },
 "nbformat": 4,
 "nbformat_minor": 2
}
