{
 "cells": [
  {
   "cell_type": "markdown",
   "metadata": {},
   "source": [
    "# Advent of Code 2023\n",
    "### Day 9: Mirage Maintenance"
   ]
  },
  {
   "cell_type": "markdown",
   "metadata": {},
   "source": [
    "##### Importing libraries"
   ]
  },
  {
   "cell_type": "code",
   "execution_count": 34,
   "metadata": {},
   "outputs": [],
   "source": []
  },
  {
   "cell_type": "markdown",
   "metadata": {},
   "source": [
    "##### Loading example and input file"
   ]
  },
  {
   "cell_type": "code",
   "execution_count": 37,
   "metadata": {},
   "outputs": [],
   "source": [
    "with open('example.txt') as inputFile:\n",
    "    linesEx = inputFile.readlines()\n",
    "\n",
    "with open('input.txt') as inputFile:\n",
    "    lines = inputFile.readlines()"
   ]
  },
  {
   "cell_type": "markdown",
   "metadata": {},
   "source": [
    "##### Common functions"
   ]
  },
  {
   "cell_type": "code",
   "execution_count": 38,
   "metadata": {},
   "outputs": [],
   "source": [
    "def parseInput(inputLines):\n",
    "    sequences = []\n",
    "    for line in inputLines:\n",
    "        splitLine= line.strip('\\n').split()\n",
    "        sequence = []\n",
    "        for number in splitLine:\n",
    "            sequence.append(int(number))\n",
    "        sequences.append(sequence)\n",
    "    return(sequences)\n",
    "\n",
    "def differences(series):\n",
    "    newSeries = []\n",
    "    for i in range(1, len(series)):\n",
    "        newSeries.append(series[i] - series[i - 1])\n",
    "    return(newSeries)\n",
    "\n",
    "def isAllZeros(series):\n",
    "    result = True\n",
    "    for num in series:\n",
    "        if num != 0:\n",
    "            result = False\n",
    "    return(result)\n",
    "\n",
    "def extrapolate(inputLines, part):\n",
    "    sequences = parseInput(inputLines)\n",
    "    result = 0\n",
    "    for sequence in sequences:\n",
    "        edgeOfSequence = [sequence[part - 2]]\n",
    "        extrapolatedNumber = [0]\n",
    "        currentSequence = sequence\n",
    "        check = False\n",
    "        while not check:\n",
    "            currentSequence = differences(currentSequence)\n",
    "            edgeOfSequence.append(currentSequence[part - 2])\n",
    "            check = isAllZeros(currentSequence)\n",
    "        for i in range(1, len(edgeOfSequence)):\n",
    "            if part == 1:\n",
    "                extrapolatedNumber.append(edgeOfSequence[-i - 1] + extrapolatedNumber[i - 1])\n",
    "            else:\n",
    "                extrapolatedNumber.append(edgeOfSequence[-i - 1] - extrapolatedNumber[i - 1])\n",
    "        result += extrapolatedNumber[-1]\n",
    "    return(result)"
   ]
  },
  {
   "cell_type": "markdown",
   "metadata": {},
   "source": [
    "##### Part 1"
   ]
  },
  {
   "cell_type": "code",
   "execution_count": 39,
   "metadata": {},
   "outputs": [
    {
     "name": "stdout",
     "output_type": "stream",
     "text": [
      "Example input: 114\n",
      "Real input: 2038472161\n"
     ]
    }
   ],
   "source": [
    "def part_one(inputLines):\n",
    "    return(extrapolate(inputLines, 1))\n",
    "\n",
    "print(\"Example input: \" + str(part_one(linesEx)))\n",
    "print(\"Real input: \" + str(part_one(lines)))"
   ]
  },
  {
   "cell_type": "markdown",
   "metadata": {},
   "source": [
    "##### Part 2"
   ]
  },
  {
   "cell_type": "code",
   "execution_count": 40,
   "metadata": {},
   "outputs": [
    {
     "name": "stdout",
     "output_type": "stream",
     "text": [
      "Example input: 2\n",
      "Real input: 1091\n"
     ]
    }
   ],
   "source": [
    "def part_two(inputLines):\n",
    "    return(extrapolate(inputLines, 2))\n",
    "\n",
    "print(\"Example input: \" + str(part_two(linesEx)))\n",
    "print(\"Real input: \" + str(part_two(lines)))"
   ]
  }
 ],
 "metadata": {
  "kernelspec": {
   "display_name": "Python 3",
   "language": "python",
   "name": "python3"
  },
  "language_info": {
   "codemirror_mode": {
    "name": "ipython",
    "version": 3
   },
   "file_extension": ".py",
   "mimetype": "text/x-python",
   "name": "python",
   "nbconvert_exporter": "python",
   "pygments_lexer": "ipython3",
   "version": "3.9.6"
  }
 },
 "nbformat": 4,
 "nbformat_minor": 2
}
